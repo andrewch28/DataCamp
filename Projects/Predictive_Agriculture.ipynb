{
 "cells": [
  {
   "cell_type": "code",
   "execution_count": 1,
   "metadata": {},
   "outputs": [],
   "source": [
    "import pandas as pd\n",
    "crops = pd.read_csv(\"../databases/soil_measures.csv\")"
   ]
  },
  {
   "cell_type": "code",
   "execution_count": null,
   "metadata": {},
   "outputs": [],
   "source": [
    "#Libraries\n",
    "from sklearn.linear_model import LogisticRegression\n",
    "from sklearn.model_selection import train_test_split\n",
    "from sklearn import metrics\n",
    "from sklearn.metrics import classification_report\n",
    "\n",
    "#Preprocessing data\n",
    "print(crops.isna().sum())\n",
    "\n",
    "print(crops.head())\n",
    "X = crops.drop(\"crop\", axis=1)\n",
    "y= crops[\"crop\"]\n",
    "X_train, X_test, y_train, y_test = train_test_split(X, y, test_size = 0.4, random_state = 42)\n",
    "\n",
    "#We could have use a confusion_matrix, bit it isn't binary classification\n",
    "\n",
    "model = LogisticRegression()\n",
    "model.fit(X_train, y_train)\n",
    "\n",
    "y_pred = model.predict(X_test)\n",
    "\n",
    "print(classification_report(y_test, y_pred))\n",
    "\n",
    "#We can use classification_report, but even better to use f1_score\n",
    "\n",
    "results = []\n",
    "for feature in [\"N\", \"K\", \"P\", \"ph\"]:\n",
    "    model = LogisticRegression(max_iter=3000)\n",
    "    model.fit(X_train[[feature]], y_train)\n",
    "    y_pred = model.predict(X_test[[feature]])\n",
    "    score = metrics.f1_score(y_test, y_pred, average=\"weighted\")\n",
    "    results.append({feature: score})\n",
    "    \n",
    "print(results)"
   ]
  }
 ],
 "metadata": {
  "kernelspec": {
   "display_name": "Python 3",
   "language": "python",
   "name": "python3"
  },
  "language_info": {
   "codemirror_mode": {
    "name": "ipython",
    "version": 3
   },
   "file_extension": ".py",
   "mimetype": "text/x-python",
   "name": "python",
   "nbconvert_exporter": "python",
   "pygments_lexer": "ipython3",
   "version": "3.12.3"
  }
 },
 "nbformat": 4,
 "nbformat_minor": 2
}
