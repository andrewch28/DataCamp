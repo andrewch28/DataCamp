{
 "cells": [
  {
   "cell_type": "markdown",
   "metadata": {},
   "source": [
    "Hard to write anything down, better to check out on the DataCamp itself"
   ]
  },
  {
   "cell_type": "markdown",
   "metadata": {},
   "source": [
    "Solution by DataCamp"
   ]
  },
  {
   "cell_type": "code",
   "execution_count": null,
   "metadata": {},
   "outputs": [],
   "source": [
    "# Import necessary libraries\n",
    "import pandas as pd\n",
    "\n",
    "# Load the dataset and create a copy\n",
    "ds_jobs = pd.read_csv(\"customer_train.csv\")\n",
    "ds_jobs_transformed = ds_jobs.copy()\n",
    "\n",
    "# EDA to help identify ordinal, nominal, and two-factor categories\n",
    "for col in ds_jobs.select_dtypes(\"object\").columns:\n",
    "    print(ds_jobs_transformed[col].value_counts(), '\\n')\n",
    "\n",
    "# Create a dictionary of columns containing ordered categorical data\n",
    "ordered_cats = {\n",
    "    'enrolled_university': ['no_enrollment', 'Part time course', 'Full time course'],\n",
    "    'education_level': ['Primary School', 'High School', 'Graduate', 'Masters', 'Phd'],\n",
    "    'experience': ['<1'] + list(map(str, range(1, 21))) + ['>20'],\n",
    "    'company_size': ['<10', '10-49', '50-99', '100-499', '500-999', '1000-4999', '5000-9999', '10000+'],\n",
    "    'last_new_job': ['never', '1', '2', '3', '4', '>4']\n",
    "}\n",
    "\n",
    "# Create a mapping dictionary of columns containing two-factor categories to convert to Booleans\n",
    "two_factor_cats = {\n",
    "    'relevant_experience': {'No relevant experience': False, 'Has relevant experience': True},\n",
    "    'job_change': {0.0: False, 1.0: True}\n",
    "}\n",
    "\n",
    "# Loop through DataFrame columns to efficiently change data types\n",
    "for col in ds_jobs_transformed:\n",
    "    \n",
    "    # Convert two-factor categories to bool\n",
    "    if col in ['relevant_experience', 'job_change']:\n",
    "        ds_jobs_transformed[col] = ds_jobs_transformed[col].map(two_factor_cats[col])\n",
    "    \n",
    "    # Convert integer columns to int32\n",
    "    elif col in ['student_id', 'training_hours']:\n",
    "        ds_jobs_transformed[col] = ds_jobs_transformed[col].astype('int32')\n",
    "    \n",
    "    # Convert float columns to float16\n",
    "    elif col == 'city_development_index':\n",
    "        ds_jobs_transformed[col] = ds_jobs_transformed[col].astype('float16')\n",
    "    \n",
    "    # Convert columns containing ordered categorical data to ordered categories using dict\n",
    "    elif col in ordered_cats.keys():\n",
    "        category = pd.CategoricalDtype(ordered_cats[col], ordered=True)\n",
    "        ds_jobs_transformed[col] = ds_jobs_transformed[col].astype(category)\n",
    "    \n",
    "    # Convert remaining columns to standard categories\n",
    "    else:\n",
    "        ds_jobs_transformed[col] = ds_jobs_transformed[col].astype('category')\n",
    "        \n",
    "# Filter students with 10 or more years experience at companies with at least 1000 employees\n",
    "ds_jobs_transformed = ds_jobs_transformed[(ds_jobs_transformed['experience'] >= '10') & (ds_jobs_transformed['company_size'] >= '1000-4999')]"
   ]
  }
 ],
 "metadata": {
  "language_info": {
   "name": "python"
  }
 },
 "nbformat": 4,
 "nbformat_minor": 2
}
