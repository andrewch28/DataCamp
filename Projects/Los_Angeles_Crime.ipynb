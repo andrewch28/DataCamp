{
 "cells": [
  {
   "cell_type": "code",
   "execution_count": null,
   "metadata": {},
   "outputs": [],
   "source": [
    "labels = [\"0-17\", \"18-25\", \"26-34\", \"35-44\", \"45-54\", \"55-64\", \"65+\"]\n",
    "bins = [0, 17, 25, 34, 44, 54, 64, crimes[\"Vict Age\"].max()]\n",
    "\n",
    "crimes[\"New column\"] = pd.cut(crimes[\"Vict Age\"],\n",
    "                             labels=labels,\n",
    "                             bins=bins)\n",
    "print(crimes[\"New column\"])"
   ]
  }
 ],
 "metadata": {
  "language_info": {
   "name": "python"
  }
 },
 "nbformat": 4,
 "nbformat_minor": 2
}
