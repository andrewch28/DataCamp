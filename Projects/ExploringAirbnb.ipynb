{
 "cells": [
  {
   "cell_type": "code",
   "execution_count": null,
   "metadata": {},
   "outputs": [],
   "source": [
    "price = pd.read_csv(\"data/airbnb_price.csv\")\n",
    "\n",
    "review = pd.read_csv(\"data/airbnb_last_review.tsv\", delimiter=\"\\t\", parse_dates=[\"last_review\"])\n",
    "\n",
    "room_type = pd.read_excel(\"data/airbnb_room_type.xlsx\")"
   ]
  },
  {
   "cell_type": "code",
   "execution_count": null,
   "metadata": {},
   "outputs": [],
   "source": [
    "review_dates = pd.DataFrame([{\"first_reviewed\": earliest_review,\n",
    "                            \"last_reviewed\": latest_review,\n",
    "                            \"nb_private_rooms\": num_private_rooms,\n",
    "                            \"avg_price\": average_listing_price}])\n",
    "review_dates"
   ]
  }
 ],
 "metadata": {
  "language_info": {
   "name": "python"
  }
 },
 "nbformat": 4,
 "nbformat_minor": 2
}
