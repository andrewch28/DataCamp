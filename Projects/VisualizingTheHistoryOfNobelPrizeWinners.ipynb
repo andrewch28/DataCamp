{
 "cells": [
  {
   "cell_type": "code",
   "execution_count": 1,
   "metadata": {},
   "outputs": [],
   "source": [
    "import pandas as pd\n",
    "import numpy as np\n",
    "import matplotlib.pyplot as plt"
   ]
  },
  {
   "cell_type": "code",
   "execution_count": 3,
   "metadata": {},
   "outputs": [],
   "source": [
    "nobel = pd.read_csv(\"../databases/nobel.csv\")"
   ]
  },
  {
   "cell_type": "markdown",
   "metadata": {},
   "source": [
    "We got a year column, but we have to create a decade column and here is a mind-blowing way to do it)"
   ]
  },
  {
   "cell_type": "code",
   "execution_count": 4,
   "metadata": {},
   "outputs": [
    {
     "data": {
      "text/plain": [
       "array([1900., 1910., 1920., 1930., 1940., 1950., 1960., 1970., 1980.,\n",
       "       1990., 2000., 2010., 2020.])"
      ]
     },
     "execution_count": 4,
     "metadata": {},
     "output_type": "execute_result"
    }
   ],
   "source": [
    "nobel[\"decade\"] = (np.floor(nobel[\"year\"]/10)*10).astype(int)\n",
    "nobel[\"decade\"].unique()"
   ]
  },
  {
   "cell_type": "markdown",
   "metadata": {},
   "source": [
    "If you have a column with True/False values and you want to calculate the proportion of True for a certain year or a decade you should use mean for whatever reason"
   ]
  },
  {
   "cell_type": "code",
   "execution_count": null,
   "metadata": {},
   "outputs": [],
   "source": [
    ".item() #to get a df element"
   ]
  },
  {
   "cell_type": "code",
   "execution_count": null,
   "metadata": {},
   "outputs": [],
   "source": [
    "# nobel = pd.read_csv(\"data/nobel.csv\")\n",
    "# nobel.head(20)\n",
    "# #Top gender\n",
    "# top_gender = nobel[\"sex\"].value_counts().index[0]\n",
    "# top_gender\n",
    "# #Top country\n",
    "# top_country = nobel[\"birth_country\"].value_counts().index[0]\n",
    "# top_country\n",
    "# #highest ratio of US-born Nobel Prize winners to total winners in all categories?\n",
    "# nobel[\"usa_winners\"] = nobel[\"birth_country\"] == \"United States of America\"\n",
    "# nobel[\"decade\"] = (np.floor(nobel[\"year\"]/10)*10).astype(int)\n",
    "\n",
    "# nobel[[\"usa_winners\", \"decade\"]].head(10)\n",
    "# df = nobel.groupby(\"decade\", as_index=False)[\"usa_winners\"].mean()\n",
    "# max_decade_usa = df[df[\"usa_winners\"] == df[\"usa_winners\"].max()]\n",
    "# max_decade_usa = max_decade_usa[\"decade\"].item()\n",
    "# #highest proportion of female laureates\n",
    "# nobel[\"female\"] = nobel[\"sex\"] == \"Female\"\n",
    "# nobel.groupby([\"decade\", \"category\"], as_index=False)[[\"female\"]].mean().max().to_dict()\n",
    "# max_female_dict = {\"2020\": \"Physics\"}\n",
    "\n",
    "# female = nobel[nobel[\"sex\"] == \"Female\"][[\"year\", \"full_name\", \"category\"]]\n",
    "# first_year = female[\"year\"].min()\n",
    "# first_woman_name = female[female[\"year\"] == first_year][\"full_name\"].item()\n",
    "# first_woman_category = female[female[\"year\"] == first_year][\"category\"].item()\n",
    "# first_woman_category\n",
    "\n",
    "# dict = nobel[\"full_name\"].value_counts()\n",
    "# dict = dict.reset_index()\n",
    "# repeat_list = dict[dict[\"count\"] > 1][\"index\"].to_list()"
   ]
  }
 ],
 "metadata": {
  "kernelspec": {
   "display_name": "Python 3",
   "language": "python",
   "name": "python3"
  },
  "language_info": {
   "codemirror_mode": {
    "name": "ipython",
    "version": 3
   },
   "file_extension": ".py",
   "mimetype": "text/x-python",
   "name": "python",
   "nbconvert_exporter": "python",
   "pygments_lexer": "ipython3",
   "version": "3.12.3"
  }
 },
 "nbformat": 4,
 "nbformat_minor": 2
}
