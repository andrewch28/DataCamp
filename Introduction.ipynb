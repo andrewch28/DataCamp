{
 "cells": [
  {
   "cell_type": "markdown",
   "metadata": {},
   "source": [
    "# Introduction to Python"
   ]
  },
  {
   "cell_type": "markdown",
   "metadata": {},
   "source": [
    "## Numpy"
   ]
  },
  {
   "cell_type": "markdown",
   "metadata": {},
   "source": [
    "Numpy allows us to rapidly carry out operations over entire collection of values (it is impossible to divide one list by another, however you CAN do it with numpy)"
   ]
  },
  {
   "cell_type": "code",
   "execution_count": 1,
   "metadata": {},
   "outputs": [
    {
     "data": {
      "text/plain": [
       "array([21.55100404, 31.32086168, 23.49440854, 18.47632721])"
      ]
     },
     "execution_count": 1,
     "metadata": {},
     "output_type": "execute_result"
    }
   ],
   "source": [
    "## Numpy allows to perform calculations over entire arrays\n",
    "import numpy as np\n",
    "\n",
    "height = [1.73, 1.68, 1.71, 1.79]\n",
    "np_height = np.array(height)\n",
    "#numpy array takes list as an input\n",
    "\n",
    "weight = [64.5, 88.4, 68.7, 59.2]\n",
    "np_weight = np.array(weight)\n",
    "\n",
    "bmi = np_weight / np_height ** 2\n",
    "bmi"
   ]
  },
  {
   "cell_type": "markdown",
   "metadata": {},
   "source": [
    "Remember that numpy can only contain values of a single type \n",
    "\n",
    "\n",
    "https://github.com/andrewch28/DataCamp"
   ]
  },
  {
   "cell_type": "code",
   "execution_count": 2,
   "metadata": {},
   "outputs": [
    {
     "data": {
      "text/plain": [
       "array([31.32086168, 23.49440854])"
      ]
     },
     "execution_count": 2,
     "metadata": {},
     "output_type": "execute_result"
    }
   ],
   "source": [
    "bmi > 23 # This will return a boolean array\n",
    "\n",
    "#If we want to subset bmi array to only those elements, which are higher than 23:\n",
    "bmi[bmi>23]"
   ]
  },
  {
   "cell_type": "code",
   "execution_count": 3,
   "metadata": {},
   "outputs": [
    {
     "data": {
      "text/plain": [
       "(2, 4)"
      ]
     },
     "execution_count": 3,
     "metadata": {},
     "output_type": "execute_result"
    }
   ],
   "source": [
    "#shape attribute\n",
    "\n",
    "np_2d = np.array([[64.5, 88.4, 68.7, 59.2],\n",
    "                   [1.73, 1.68, 1.71, 1.79]])\n",
    "np_2d.shape"
   ]
  },
  {
   "cell_type": "code",
   "execution_count": 4,
   "metadata": {},
   "outputs": [
    {
     "name": "stdout",
     "output_type": "stream",
     "text": [
      "68.7\n"
     ]
    },
    {
     "data": {
      "text/plain": [
       "array([[88.4 , 68.7 ],\n",
       "       [ 1.68,  1.71]])"
      ]
     },
     "execution_count": 4,
     "metadata": {},
     "output_type": "execute_result"
    }
   ],
   "source": [
    "print(np_2d[0, 2])\n",
    "np_2d[:, 1:3]"
   ]
  },
  {
   "cell_type": "code",
   "execution_count": 5,
   "metadata": {},
   "outputs": [
    {
     "name": "stdout",
     "output_type": "stream",
     "text": [
      "70.2\n",
      "66.6\n",
      "[[ 1.         -0.86725192]\n",
      " [-0.86725192  1.        ]]\n",
      "11.033811671403496\n",
      "280.8\n",
      "[59.2 64.5 68.7 88.4]\n"
     ]
    }
   ],
   "source": [
    "print(np.mean(np_2d[0]))\n",
    "print(np.median(np_2d[0]))\n",
    "\n",
    "print(np.corrcoef(np_2d[0], np_2d[1]))\n",
    "print(np.std(np_2d[0]))\n",
    "\n",
    "print(np.sum(np_2d[0]))\n",
    "print(np.sort(np_2d[0]))"
   ]
  },
  {
   "cell_type": "code",
   "execution_count": null,
   "metadata": {},
   "outputs": [],
   "source": [
    "# Convert positions and heights to numpy arrays: np_positions, np_heights\n",
    "positions = [\"GK\", ...]\n",
    "heights = [...]\n",
    "\n",
    "np_positions = np.array(positions)\n",
    "np_heights = np.array(heights)\n",
    "\n",
    "# Heights of the goalkeepers: gk_heights\n",
    "gk_heights = np_heights[np_positions == \"GK\"]\n",
    "\n",
    "# Heights of the other players: other_heights\n",
    "other_heights = np_heights[np_positions != \"GK\"]"
   ]
  }
 ],
 "metadata": {
  "kernelspec": {
   "display_name": "Python 3",
   "language": "python",
   "name": "python3"
  },
  "language_info": {
   "codemirror_mode": {
    "name": "ipython",
    "version": 3
   },
   "file_extension": ".py",
   "mimetype": "text/x-python",
   "name": "python",
   "nbconvert_exporter": "python",
   "pygments_lexer": "ipython3",
   "version": "3.12.3"
  }
 },
 "nbformat": 4,
 "nbformat_minor": 2
}
