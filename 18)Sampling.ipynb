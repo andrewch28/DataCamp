{
 "cells": [
  {
   "cell_type": "markdown",
   "metadata": {},
   "source": [
    "# Sampling in Python"
   ]
  },
  {
   "cell_type": "code",
   "execution_count": 33,
   "metadata": {},
   "outputs": [],
   "source": [
    "import pandas as pd\n",
    "import matplotlib.pyplot as plt\n",
    "import numpy as np\n",
    "import seaborn as sns"
   ]
  },
  {
   "cell_type": "markdown",
   "metadata": {},
   "source": [
    "<hr>"
   ]
  },
  {
   "cell_type": "markdown",
   "metadata": {},
   "source": [
    "## Chapter 1: Introduction to Sampling"
   ]
  },
  {
   "cell_type": "markdown",
   "metadata": {},
   "source": [
    "### Sampling and point estimates"
   ]
  },
  {
   "cell_type": "markdown",
   "metadata": {},
   "source": [
    "- Working with a subset of the whole population is called **sampling**\n",
    "- The population is the complete dataset\n",
    "- Typically, we don't know what the whole population is \n",
    "- The sample is the subset of data you calculate on"
   ]
  },
  {
   "cell_type": "code",
   "execution_count": 34,
   "metadata": {},
   "outputs": [
    {
     "data": {
      "text/html": [
       "<div>\n",
       "<style scoped>\n",
       "    .dataframe tbody tr th:only-of-type {\n",
       "        vertical-align: middle;\n",
       "    }\n",
       "\n",
       "    .dataframe tbody tr th {\n",
       "        vertical-align: top;\n",
       "    }\n",
       "\n",
       "    .dataframe thead th {\n",
       "        text-align: right;\n",
       "    }\n",
       "</style>\n",
       "<table border=\"1\" class=\"dataframe\">\n",
       "  <thead>\n",
       "    <tr style=\"text-align: right;\">\n",
       "      <th></th>\n",
       "      <th>total_cup_points</th>\n",
       "      <th>variety</th>\n",
       "      <th>country_of_origin</th>\n",
       "      <th>aroma</th>\n",
       "      <th>flavor</th>\n",
       "      <th>aftertaste</th>\n",
       "      <th>body</th>\n",
       "      <th>balance</th>\n",
       "    </tr>\n",
       "  </thead>\n",
       "  <tbody>\n",
       "    <tr>\n",
       "      <th>0</th>\n",
       "      <td>90.58</td>\n",
       "      <td>None</td>\n",
       "      <td>Ethiopia</td>\n",
       "      <td>8.67</td>\n",
       "      <td>8.83</td>\n",
       "      <td>8.67</td>\n",
       "      <td>8.50</td>\n",
       "      <td>8.42</td>\n",
       "    </tr>\n",
       "    <tr>\n",
       "      <th>1</th>\n",
       "      <td>89.92</td>\n",
       "      <td>Other</td>\n",
       "      <td>Ethiopia</td>\n",
       "      <td>8.75</td>\n",
       "      <td>8.67</td>\n",
       "      <td>8.50</td>\n",
       "      <td>8.42</td>\n",
       "      <td>8.42</td>\n",
       "    </tr>\n",
       "    <tr>\n",
       "      <th>2</th>\n",
       "      <td>89.75</td>\n",
       "      <td>Bourbon</td>\n",
       "      <td>Guatemala</td>\n",
       "      <td>8.42</td>\n",
       "      <td>8.50</td>\n",
       "      <td>8.42</td>\n",
       "      <td>8.33</td>\n",
       "      <td>8.42</td>\n",
       "    </tr>\n",
       "    <tr>\n",
       "      <th>3</th>\n",
       "      <td>89.00</td>\n",
       "      <td>None</td>\n",
       "      <td>Ethiopia</td>\n",
       "      <td>8.17</td>\n",
       "      <td>8.58</td>\n",
       "      <td>8.42</td>\n",
       "      <td>8.50</td>\n",
       "      <td>8.25</td>\n",
       "    </tr>\n",
       "    <tr>\n",
       "      <th>4</th>\n",
       "      <td>88.83</td>\n",
       "      <td>Other</td>\n",
       "      <td>Ethiopia</td>\n",
       "      <td>8.25</td>\n",
       "      <td>8.50</td>\n",
       "      <td>8.25</td>\n",
       "      <td>8.42</td>\n",
       "      <td>8.33</td>\n",
       "    </tr>\n",
       "  </tbody>\n",
       "</table>\n",
       "</div>"
      ],
      "text/plain": [
       "   total_cup_points  variety country_of_origin  aroma  flavor  aftertaste  \\\n",
       "0             90.58     None          Ethiopia   8.67    8.83        8.67   \n",
       "1             89.92    Other          Ethiopia   8.75    8.67        8.50   \n",
       "2             89.75  Bourbon         Guatemala   8.42    8.50        8.42   \n",
       "3             89.00     None          Ethiopia   8.17    8.58        8.42   \n",
       "4             88.83    Other          Ethiopia   8.25    8.50        8.25   \n",
       "\n",
       "   body  balance  \n",
       "0  8.50     8.42  \n",
       "1  8.42     8.42  \n",
       "2  8.33     8.42  \n",
       "3  8.50     8.25  \n",
       "4  8.42     8.33  "
      ]
     },
     "execution_count": 34,
     "metadata": {},
     "output_type": "execute_result"
    }
   ],
   "source": [
    "coffee = pd.read_feather(\"databases/coffee_ratings_full.feather\")\n",
    "coffee[[\"total_cup_points\", \"variety\", \"country_of_origin\", \"aroma\", \"flavor\", \"aftertaste\", \"body\", \"balance\"]].head()"
   ]
  },
  {
   "cell_type": "markdown",
   "metadata": {},
   "source": [
    "Points vs. flavor: population"
   ]
  },
  {
   "cell_type": "code",
   "execution_count": 35,
   "metadata": {},
   "outputs": [
    {
     "data": {
      "text/html": [
       "<div>\n",
       "<style scoped>\n",
       "    .dataframe tbody tr th:only-of-type {\n",
       "        vertical-align: middle;\n",
       "    }\n",
       "\n",
       "    .dataframe tbody tr th {\n",
       "        vertical-align: top;\n",
       "    }\n",
       "\n",
       "    .dataframe thead th {\n",
       "        text-align: right;\n",
       "    }\n",
       "</style>\n",
       "<table border=\"1\" class=\"dataframe\">\n",
       "  <thead>\n",
       "    <tr style=\"text-align: right;\">\n",
       "      <th></th>\n",
       "      <th>total_cup_points</th>\n",
       "      <th>flavor</th>\n",
       "    </tr>\n",
       "  </thead>\n",
       "  <tbody>\n",
       "    <tr>\n",
       "      <th>419</th>\n",
       "      <td>83.25</td>\n",
       "      <td>7.58</td>\n",
       "    </tr>\n",
       "    <tr>\n",
       "      <th>49</th>\n",
       "      <td>86.00</td>\n",
       "      <td>8.00</td>\n",
       "    </tr>\n",
       "    <tr>\n",
       "      <th>463</th>\n",
       "      <td>83.17</td>\n",
       "      <td>7.83</td>\n",
       "    </tr>\n",
       "    <tr>\n",
       "      <th>5</th>\n",
       "      <td>88.83</td>\n",
       "      <td>8.42</td>\n",
       "    </tr>\n",
       "    <tr>\n",
       "      <th>914</th>\n",
       "      <td>81.50</td>\n",
       "      <td>7.42</td>\n",
       "    </tr>\n",
       "    <tr>\n",
       "      <th>610</th>\n",
       "      <td>82.67</td>\n",
       "      <td>7.67</td>\n",
       "    </tr>\n",
       "    <tr>\n",
       "      <th>24</th>\n",
       "      <td>87.08</td>\n",
       "      <td>8.17</td>\n",
       "    </tr>\n",
       "    <tr>\n",
       "      <th>156</th>\n",
       "      <td>84.58</td>\n",
       "      <td>8.00</td>\n",
       "    </tr>\n",
       "    <tr>\n",
       "      <th>859</th>\n",
       "      <td>81.75</td>\n",
       "      <td>7.50</td>\n",
       "    </tr>\n",
       "    <tr>\n",
       "      <th>982</th>\n",
       "      <td>81.17</td>\n",
       "      <td>7.25</td>\n",
       "    </tr>\n",
       "  </tbody>\n",
       "</table>\n",
       "</div>"
      ],
      "text/plain": [
       "     total_cup_points  flavor\n",
       "419             83.25    7.58\n",
       "49              86.00    8.00\n",
       "463             83.17    7.83\n",
       "5               88.83    8.42\n",
       "914             81.50    7.42\n",
       "610             82.67    7.67\n",
       "24              87.08    8.17\n",
       "156             84.58    8.00\n",
       "859             81.75    7.50\n",
       "982             81.17    7.25"
      ]
     },
     "execution_count": 35,
     "metadata": {},
     "output_type": "execute_result"
    }
   ],
   "source": [
    "pts_vs_flavor_pop = coffee[[\"total_cup_points\", \"flavor\"]] #returns 10 random rows\n",
    "pts_vs_flavor_pop.sample(n=10)"
   ]
  },
  {
   "cell_type": "markdown",
   "metadata": {},
   "source": [
    "`.sample()` method works for both pandas DataFrames and Series"
   ]
  },
  {
   "cell_type": "code",
   "execution_count": 36,
   "metadata": {},
   "outputs": [
    {
     "data": {
      "text/plain": [
       "10      88.08\n",
       "419     83.25\n",
       "407     83.33\n",
       "639     82.58\n",
       "814     82.00\n",
       "815     81.92\n",
       "1209    78.75\n",
       "942     81.42\n",
       "278     83.83\n",
       "1325    81.42\n",
       "Name: total_cup_points, dtype: float64"
      ]
     },
     "execution_count": 36,
     "metadata": {},
     "output_type": "execute_result"
    }
   ],
   "source": [
    "cup_points_samp = coffee[\"total_cup_points\"].sample(n=10)\n",
    "cup_points_samp"
   ]
  },
  {
   "cell_type": "markdown",
   "metadata": {},
   "source": [
    "A *population parameter* is a calculation made on the population dataset"
   ]
  },
  {
   "cell_type": "code",
   "execution_count": 37,
   "metadata": {},
   "outputs": [
    {
     "data": {
      "text/plain": [
       "82.15120328849028"
      ]
     },
     "execution_count": 37,
     "metadata": {},
     "output_type": "execute_result"
    }
   ],
   "source": [
    "np.mean(pts_vs_flavor_pop[\"total_cup_points\"])"
   ]
  },
  {
   "cell_type": "markdown",
   "metadata": {},
   "source": [
    "A *point estimate* or *sample statistic* is a calculation made on the sample dataset"
   ]
  },
  {
   "cell_type": "code",
   "execution_count": 38,
   "metadata": {},
   "outputs": [
    {
     "data": {
      "text/plain": [
       "82.658"
      ]
     },
     "execution_count": 38,
     "metadata": {},
     "output_type": "execute_result"
    }
   ],
   "source": [
    "np.mean(cup_points_samp)"
   ]
  },
  {
   "cell_type": "markdown",
   "metadata": {},
   "source": [
    "**Point estimates with pandas**"
   ]
  },
  {
   "cell_type": "code",
   "execution_count": 39,
   "metadata": {},
   "outputs": [
    {
     "name": "stdout",
     "output_type": "stream",
     "text": [
      "82.15120328849028\n",
      "82.658\n"
     ]
    }
   ],
   "source": [
    "print(pts_vs_flavor_pop[\"total_cup_points\"].mean())\n",
    "print(cup_points_samp.mean())"
   ]
  },
  {
   "cell_type": "markdown",
   "metadata": {},
   "source": [
    "Task 1"
   ]
  },
  {
   "cell_type": "code",
   "execution_count": 40,
   "metadata": {},
   "outputs": [
    {
     "name": "stdout",
     "output_type": "stream",
     "text": [
      "3.8521519140900073\n",
      "3.8466407499999997\n"
     ]
    }
   ],
   "source": [
    "spotify_population = pd.read_feather(\"databases/spotify_2000_2020.feather\")\n",
    "\n",
    "# Sample 1000 rows from spotify_population\n",
    "spotify_sample = spotify_population.sample(n=1000)\n",
    "\n",
    "# Calculate the mean duration in mins from spotify_population\n",
    "mean_dur_pop = spotify_population[\"duration_minutes\"].mean()\n",
    "\n",
    "# Calculate the mean duration in mins from spotify_sample\n",
    "mean_dur_samp = spotify_sample[\"duration_minutes\"].mean()\n",
    "\n",
    "# Print the means\n",
    "print(mean_dur_pop)\n",
    "print(mean_dur_samp)"
   ]
  },
  {
   "cell_type": "markdown",
   "metadata": {},
   "source": [
    "Task 2"
   ]
  },
  {
   "cell_type": "code",
   "execution_count": 41,
   "metadata": {},
   "outputs": [
    {
     "name": "stdout",
     "output_type": "stream",
     "text": [
      "-7.366856851353947\n",
      "-6.880710000000001\n"
     ]
    }
   ],
   "source": [
    "# Create a pandas Series from the loudness column of spotify_population\n",
    "loudness_pop = spotify_population['loudness']\n",
    "\n",
    "# Sample 100 values of loudness_pop\n",
    "loudness_samp = loudness_pop.sample(n=100)\n",
    "\n",
    "# Calculate the mean of loudness_pop\n",
    "mean_loudness_pop = np.mean(loudness_pop)\n",
    "\n",
    "# Calculate the mean of loudness_samp\n",
    "mean_loudness_samp = np.mean(loudness_samp)\n",
    "\n",
    "print(mean_loudness_pop)\n",
    "print(mean_loudness_samp)"
   ]
  },
  {
   "cell_type": "markdown",
   "metadata": {},
   "source": [
    "### Convenience sampling"
   ]
  },
  {
   "cell_type": "markdown",
   "metadata": {},
   "source": [
    "- Collecting data by the easiest method is called - convenience sampling\n",
    "- It often leads to sample being not representative, causing sample bias"
   ]
  },
  {
   "cell_type": "code",
   "execution_count": 42,
   "metadata": {},
   "outputs": [
    {
     "data": {
      "text/plain": [
       "89.1"
      ]
     },
     "execution_count": 42,
     "metadata": {},
     "output_type": "execute_result"
    }
   ],
   "source": [
    "coffee_ratings_first10 = coffee.head(10)\n",
    "coffee_ratings_first10[\"total_cup_points\"].mean()\n",
    "\n",
    "#Convenience sample is not representative, the actual mean is around 82"
   ]
  },
  {
   "cell_type": "markdown",
   "metadata": {},
   "source": [
    "**Visualizing selection bias**"
   ]
  },
  {
   "cell_type": "markdown",
   "metadata": {},
   "source": [
    "*Population:*"
   ]
  },
  {
   "cell_type": "code",
   "execution_count": 43,
   "metadata": {},
   "outputs": [
    {
     "data": {
      "image/png": "[encoded data removed]",
      "text/plain": [
       "<Figure size 640x480 with 1 Axes>"
      ]
     },
     "metadata": {},
     "output_type": "display_data"
    }
   ],
   "source": [
    "coffee[\"total_cup_points\"].hist(bins=np.arange(59, 93, 2))\n",
    "plt.show()"
   ]
  },
  {
   "cell_type": "markdown",
   "metadata": {},
   "source": [
    "*The same code for convenience sample:*"
   ]
  },
  {
   "cell_type": "code",
   "execution_count": 44,
   "metadata": {},
   "outputs": [
    {
     "data": {
      "image/png": "[encoded data removed]",
      "text/plain": [
       "<Figure size 640x480 with 1 Axes>"
      ]
     },
     "metadata": {},
     "output_type": "display_data"
    }
   ],
   "source": [
    "coffee_ratings_first10[\"total_cup_points\"].hist(bins=np.arange(59, 93, 2))\n",
    "plt.show()"
   ]
  },
  {
   "cell_type": "markdown",
   "metadata": {},
   "source": [
    "Comparing two histograms it is clear that the distribution of a sample value is not the same as the sample plot"
   ]
  },
  {
   "cell_type": "markdown",
   "metadata": {},
   "source": [
    "*Visualizing seelcction bias for a random selection:*"
   ]
  },
  {
   "cell_type": "code",
   "execution_count": 45,
   "metadata": {},
   "outputs": [
    {
     "data": {
      "image/png": "[encoded data removed]",
      "text/plain": [
       "<Figure size 640x480 with 1 Axes>"
      ]
     },
     "metadata": {},
     "output_type": "display_data"
    }
   ],
   "source": [
    "cup_points_samp.hist(bins=np.arange(59, 93, 2))\n",
    "plt.show()"
   ]
  },
  {
   "cell_type": "markdown",
   "metadata": {},
   "source": [
    "The shape of the distribution is closer to the actual population when random sampling is used"
   ]
  },
  {
   "cell_type": "markdown",
   "metadata": {},
   "source": [
    "### Pseudo-random number generation"
   ]
  },
  {
   "cell_type": "markdown",
   "metadata": {},
   "source": [
    "- appears to be random, but actually next \"random\" number is calculated from previous \"random\" number\n",
    "- the first \"random\" number calculated from a seed\n",
    "- The same seed value yields the same random numbers"
   ]
  },
  {
   "cell_type": "markdown",
   "metadata": {},
   "source": [
    "Visualizing \"random\" numbers"
   ]
  },
  {
   "cell_type": "code",
   "execution_count": 46,
   "metadata": {},
   "outputs": [
    {
     "data": {
      "text/plain": [
       "array([0.74394876, 0.63547944, 0.26581373, ..., 0.454257  , 0.19857209,\n",
       "       0.17338643])"
      ]
     },
     "execution_count": 46,
     "metadata": {},
     "output_type": "execute_result"
    }
   ],
   "source": [
    "randoms = np.random.beta(a=2, b=2, size=5000)\n",
    "randoms\n",
    "\n",
    "#size - how many numbers to generate"
   ]
  },
  {
   "cell_type": "code",
   "execution_count": 47,
   "metadata": {},
   "outputs": [
    {
     "data": {
      "image/png": "[encoded data removed]",
      "text/plain": [
       "<Figure size 640x480 with 1 Axes>"
      ]
     },
     "metadata": {},
     "output_type": "display_data"
    }
   ],
   "source": [
    "plt.hist(randoms, bins = np.arange(0, 1, 0.05))\n",
    "plt.show()"
   ]
  },
  {
   "cell_type": "code",
   "execution_count": 48,
   "metadata": {},
   "outputs": [],
   "source": [
    "np.random.seed(200000229)"
   ]
  },
  {
   "cell_type": "code",
   "execution_count": 49,
   "metadata": {},
   "outputs": [
    {
     "data": {
      "text/plain": [
       "array([2.69861022, 5.48501273])"
      ]
     },
     "execution_count": 49,
     "metadata": {},
     "output_type": "execute_result"
    }
   ],
   "source": [
    "np.random.normal(loc=2, scale=1.5, size=2)\n",
    "\n",
    "#loc - mean\n",
    "#scale - std"
   ]
  },
  {
   "cell_type": "markdown",
   "metadata": {},
   "source": [
    "<hr>"
   ]
  },
  {
   "cell_type": "markdown",
   "metadata": {},
   "source": [
    "## Chapter 2: Sampling Methods"
   ]
  },
  {
   "cell_type": "markdown",
   "metadata": {},
   "source": [
    "### Simple random and systematic sampling"
   ]
  },
  {
   "cell_type": "markdown",
   "metadata": {},
   "source": [
    "- **Simple random sampling** is similar to a lottery (we take some coffee variety one at a time - each coffee has the same chance as any other to be picked)"
   ]
  },
  {
   "cell_type": "code",
   "execution_count": 50,
   "metadata": {},
   "outputs": [
    {
     "data": {
      "text/html": [
       "<div>\n",
       "<style scoped>\n",
       "    .dataframe tbody tr th:only-of-type {\n",
       "        vertical-align: middle;\n",
       "    }\n",
       "\n",
       "    .dataframe tbody tr th {\n",
       "        vertical-align: top;\n",
       "    }\n",
       "\n",
       "    .dataframe thead th {\n",
       "        text-align: right;\n",
       "    }\n",
       "</style>\n",
       "<table border=\"1\" class=\"dataframe\">\n",
       "  <thead>\n",
       "    <tr style=\"text-align: right;\">\n",
       "      <th></th>\n",
       "      <th>total_cup_points</th>\n",
       "      <th>species</th>\n",
       "      <th>owner</th>\n",
       "      <th>country_of_origin</th>\n",
       "      <th>farm_name</th>\n",
       "      <th>lot_number</th>\n",
       "      <th>mill</th>\n",
       "      <th>ico_number</th>\n",
       "      <th>company</th>\n",
       "      <th>altitude</th>\n",
       "      <th>...</th>\n",
       "      <th>color</th>\n",
       "      <th>category_two_defects</th>\n",
       "      <th>expiration</th>\n",
       "      <th>certification_body</th>\n",
       "      <th>certification_address</th>\n",
       "      <th>certification_contact</th>\n",
       "      <th>unit_of_measurement</th>\n",
       "      <th>altitude_low_meters</th>\n",
       "      <th>altitude_high_meters</th>\n",
       "      <th>altitude_mean_meters</th>\n",
       "    </tr>\n",
       "  </thead>\n",
       "  <tbody>\n",
       "    <tr>\n",
       "      <th>437</th>\n",
       "      <td>83.25</td>\n",
       "      <td>Arabica</td>\n",
       "      <td>exportadora de cafe condor s.a</td>\n",
       "      <td>Colombia</td>\n",
       "      <td>None</td>\n",
       "      <td>None</td>\n",
       "      <td>trilladora bonanza - armenia quindioa</td>\n",
       "      <td>3-68-0205</td>\n",
       "      <td>None</td>\n",
       "      <td>1600-1800msnm</td>\n",
       "      <td>...</td>\n",
       "      <td>None</td>\n",
       "      <td>0.0</td>\n",
       "      <td>June 13th, 2012</td>\n",
       "      <td>Almacafé</td>\n",
       "      <td>e493c36c2d076bf273064f7ac23ad562af257a25</td>\n",
       "      <td>70d3c0c26f89e00fdae6fb39ff54f0d2eb1c38ab</td>\n",
       "      <td>m</td>\n",
       "      <td>1600.0</td>\n",
       "      <td>1800.0</td>\n",
       "      <td>1700.0</td>\n",
       "    </tr>\n",
       "    <tr>\n",
       "      <th>285</th>\n",
       "      <td>83.83</td>\n",
       "      <td>Arabica</td>\n",
       "      <td>ipanema coffees</td>\n",
       "      <td>Brazil</td>\n",
       "      <td>fazenda rio verde</td>\n",
       "      <td>None</td>\n",
       "      <td>ipanema coffees</td>\n",
       "      <td>002/4177/0121</td>\n",
       "      <td>ipanema coffees</td>\n",
       "      <td>1260</td>\n",
       "      <td>...</td>\n",
       "      <td>Green</td>\n",
       "      <td>0.0</td>\n",
       "      <td>December 26th, 2014</td>\n",
       "      <td>Specialty Coffee Association</td>\n",
       "      <td>36d0d00a3724338ba7937c52a378d085f2172daa</td>\n",
       "      <td>0878a7d4b9d35ddbf0fe2ce69a2062cceb45a660</td>\n",
       "      <td>m</td>\n",
       "      <td>1260.0</td>\n",
       "      <td>1260.0</td>\n",
       "      <td>1260.0</td>\n",
       "    </tr>\n",
       "    <tr>\n",
       "      <th>784</th>\n",
       "      <td>82.08</td>\n",
       "      <td>Arabica</td>\n",
       "      <td>cafe politico</td>\n",
       "      <td>Colombia</td>\n",
       "      <td>None</td>\n",
       "      <td>None</td>\n",
       "      <td>None</td>\n",
       "      <td>3-59-1656</td>\n",
       "      <td>cafe politico</td>\n",
       "      <td>None</td>\n",
       "      <td>...</td>\n",
       "      <td>Green</td>\n",
       "      <td>0.0</td>\n",
       "      <td>September 12th, 2015</td>\n",
       "      <td>Specialty Coffee Association</td>\n",
       "      <td>36d0d00a3724338ba7937c52a378d085f2172daa</td>\n",
       "      <td>0878a7d4b9d35ddbf0fe2ce69a2062cceb45a660</td>\n",
       "      <td>m</td>\n",
       "      <td>NaN</td>\n",
       "      <td>NaN</td>\n",
       "      <td>NaN</td>\n",
       "    </tr>\n",
       "    <tr>\n",
       "      <th>648</th>\n",
       "      <td>82.58</td>\n",
       "      <td>Arabica</td>\n",
       "      <td>exportadora de cafe condor s.a</td>\n",
       "      <td>Colombia</td>\n",
       "      <td>None</td>\n",
       "      <td>None</td>\n",
       "      <td>trilladora boananza</td>\n",
       "      <td>3-68-0140</td>\n",
       "      <td>exportadora de cafe condor s.a</td>\n",
       "      <td>1750 msnm</td>\n",
       "      <td>...</td>\n",
       "      <td>Green</td>\n",
       "      <td>0.0</td>\n",
       "      <td>February 27th, 2014</td>\n",
       "      <td>Almacafé</td>\n",
       "      <td>e493c36c2d076bf273064f7ac23ad562af257a25</td>\n",
       "      <td>70d3c0c26f89e00fdae6fb39ff54f0d2eb1c38ab</td>\n",
       "      <td>m</td>\n",
       "      <td>1750.0</td>\n",
       "      <td>1750.0</td>\n",
       "      <td>1750.0</td>\n",
       "    </tr>\n",
       "    <tr>\n",
       "      <th>155</th>\n",
       "      <td>84.58</td>\n",
       "      <td>Arabica</td>\n",
       "      <td>exportadora de cafe condor s.a</td>\n",
       "      <td>Colombia</td>\n",
       "      <td>various</td>\n",
       "      <td>None</td>\n",
       "      <td>trilladora boananza</td>\n",
       "      <td>3-68-0005</td>\n",
       "      <td>exportadora de cafe condor s.a</td>\n",
       "      <td>1800 msnm</td>\n",
       "      <td>...</td>\n",
       "      <td>Green</td>\n",
       "      <td>6.0</td>\n",
       "      <td>October 9th, 2013</td>\n",
       "      <td>Almacafé</td>\n",
       "      <td>e493c36c2d076bf273064f7ac23ad562af257a25</td>\n",
       "      <td>70d3c0c26f89e00fdae6fb39ff54f0d2eb1c38ab</td>\n",
       "      <td>m</td>\n",
       "      <td>1800.0</td>\n",
       "      <td>1800.0</td>\n",
       "      <td>1800.0</td>\n",
       "    </tr>\n",
       "  </tbody>\n",
       "</table>\n",
       "<p>5 rows × 43 columns</p>\n",
       "</div>"
      ],
      "text/plain": [
       "     total_cup_points  species                           owner  \\\n",
       "437             83.25  Arabica  exportadora de cafe condor s.a   \n",
       "285             83.83  Arabica                 ipanema coffees   \n",
       "784             82.08  Arabica                   cafe politico   \n",
       "648             82.58  Arabica  exportadora de cafe condor s.a   \n",
       "155             84.58  Arabica  exportadora de cafe condor s.a   \n",
       "\n",
       "    country_of_origin          farm_name lot_number  \\\n",
       "437          Colombia               None       None   \n",
       "285            Brazil  fazenda rio verde       None   \n",
       "784          Colombia               None       None   \n",
       "648          Colombia               None       None   \n",
       "155          Colombia            various       None   \n",
       "\n",
       "                                      mill     ico_number  \\\n",
       "437  trilladora bonanza - armenia quindioa      3-68-0205   \n",
       "285                        ipanema coffees  002/4177/0121   \n",
       "784                                   None      3-59-1656   \n",
       "648                    trilladora boananza      3-68-0140   \n",
       "155                    trilladora boananza      3-68-0005   \n",
       "\n",
       "                            company       altitude  ...  color  \\\n",
       "437                            None  1600-1800msnm  ...   None   \n",
       "285                 ipanema coffees           1260  ...  Green   \n",
       "784                   cafe politico           None  ...  Green   \n",
       "648  exportadora de cafe condor s.a      1750 msnm  ...  Green   \n",
       "155  exportadora de cafe condor s.a      1800 msnm  ...  Green   \n",
       "\n",
       "    category_two_defects            expiration            certification_body  \\\n",
       "437                  0.0       June 13th, 2012                      Almacafé   \n",
       "285                  0.0   December 26th, 2014  Specialty Coffee Association   \n",
       "784                  0.0  September 12th, 2015  Specialty Coffee Association   \n",
       "648                  0.0   February 27th, 2014                      Almacafé   \n",
       "155                  6.0     October 9th, 2013                      Almacafé   \n",
       "\n",
       "                        certification_address  \\\n",
       "437  e493c36c2d076bf273064f7ac23ad562af257a25   \n",
       "285  36d0d00a3724338ba7937c52a378d085f2172daa   \n",
       "784  36d0d00a3724338ba7937c52a378d085f2172daa   \n",
       "648  e493c36c2d076bf273064f7ac23ad562af257a25   \n",
       "155  e493c36c2d076bf273064f7ac23ad562af257a25   \n",
       "\n",
       "                        certification_contact unit_of_measurement  \\\n",
       "437  70d3c0c26f89e00fdae6fb39ff54f0d2eb1c38ab                   m   \n",
       "285  0878a7d4b9d35ddbf0fe2ce69a2062cceb45a660                   m   \n",
       "784  0878a7d4b9d35ddbf0fe2ce69a2062cceb45a660                   m   \n",
       "648  70d3c0c26f89e00fdae6fb39ff54f0d2eb1c38ab                   m   \n",
       "155  70d3c0c26f89e00fdae6fb39ff54f0d2eb1c38ab                   m   \n",
       "\n",
       "    altitude_low_meters altitude_high_meters altitude_mean_meters  \n",
       "437              1600.0               1800.0               1700.0  \n",
       "285              1260.0               1260.0               1260.0  \n",
       "784                 NaN                  NaN                  NaN  \n",
       "648              1750.0               1750.0               1750.0  \n",
       "155              1800.0               1800.0               1800.0  \n",
       "\n",
       "[5 rows x 43 columns]"
      ]
     },
     "execution_count": 50,
     "metadata": {},
     "output_type": "execute_result"
    }
   ],
   "source": [
    "coffee.sample(n=5, random_state=19000113) #seed for reproducibility"
   ]
  },
  {
   "cell_type": "markdown",
   "metadata": {},
   "source": [
    "- **Systematic sampling** samples the population at regular intervals (for example - every fifth coffee is samples)"
   ]
  },
  {
   "cell_type": "code",
   "execution_count": 51,
   "metadata": {},
   "outputs": [
    {
     "name": "stdout",
     "output_type": "stream",
     "text": [
      "267.6\n",
      "267\n"
     ]
    }
   ],
   "source": [
    "sample_size = 5\n",
    "pop_size = len(coffee)\n",
    "\n",
    "interval = pop_size/sample_size\n",
    "print(interval)\n",
    "\n",
    "#However, interval must be an int, therefore we will compute integer division\n",
    "#We use //\n",
    "\n",
    "interval = pop_size // sample_size\n",
    "print(interval)"
   ]
  },
  {
   "cell_type": "markdown",
   "metadata": {},
   "source": [
    "In the example above we have seen that to get a systematic sample of five coffees on our population, we will select every 267 coffee in the dataset"
   ]
  },
  {
   "cell_type": "markdown",
   "metadata": {},
   "source": [
    "To perform this operation:"
   ]
  },
  {
   "cell_type": "code",
   "execution_count": 52,
   "metadata": {},
   "outputs": [
    {
     "data": {
      "text/html": [
       "<div>\n",
       "<style scoped>\n",
       "    .dataframe tbody tr th:only-of-type {\n",
       "        vertical-align: middle;\n",
       "    }\n",
       "\n",
       "    .dataframe tbody tr th {\n",
       "        vertical-align: top;\n",
       "    }\n",
       "\n",
       "    .dataframe thead th {\n",
       "        text-align: right;\n",
       "    }\n",
       "</style>\n",
       "<table border=\"1\" class=\"dataframe\">\n",
       "  <thead>\n",
       "    <tr style=\"text-align: right;\">\n",
       "      <th></th>\n",
       "      <th>total_cup_points</th>\n",
       "      <th>species</th>\n",
       "      <th>owner</th>\n",
       "      <th>country_of_origin</th>\n",
       "      <th>farm_name</th>\n",
       "      <th>lot_number</th>\n",
       "      <th>mill</th>\n",
       "      <th>ico_number</th>\n",
       "      <th>company</th>\n",
       "      <th>altitude</th>\n",
       "      <th>...</th>\n",
       "      <th>color</th>\n",
       "      <th>category_two_defects</th>\n",
       "      <th>expiration</th>\n",
       "      <th>certification_body</th>\n",
       "      <th>certification_address</th>\n",
       "      <th>certification_contact</th>\n",
       "      <th>unit_of_measurement</th>\n",
       "      <th>altitude_low_meters</th>\n",
       "      <th>altitude_high_meters</th>\n",
       "      <th>altitude_mean_meters</th>\n",
       "    </tr>\n",
       "  </thead>\n",
       "  <tbody>\n",
       "    <tr>\n",
       "      <th>0</th>\n",
       "      <td>90.58</td>\n",
       "      <td>Arabica</td>\n",
       "      <td>metad plc</td>\n",
       "      <td>Ethiopia</td>\n",
       "      <td>metad plc</td>\n",
       "      <td>None</td>\n",
       "      <td>metad plc</td>\n",
       "      <td>2014/2015</td>\n",
       "      <td>metad agricultural developmet plc</td>\n",
       "      <td>1950-2200</td>\n",
       "      <td>...</td>\n",
       "      <td>Green</td>\n",
       "      <td>0.0</td>\n",
       "      <td>April 3rd, 2016</td>\n",
       "      <td>METAD Agricultural Development plc</td>\n",
       "      <td>309fcf77415a3661ae83e027f7e5f05dad786e44</td>\n",
       "      <td>19fef5a731de2db57d16da10287413f5f99bc2dd</td>\n",
       "      <td>m</td>\n",
       "      <td>1950.0</td>\n",
       "      <td>2200.0</td>\n",
       "      <td>2075.0</td>\n",
       "    </tr>\n",
       "    <tr>\n",
       "      <th>267</th>\n",
       "      <td>83.92</td>\n",
       "      <td>Arabica</td>\n",
       "      <td>federacion nacional de cafeteros</td>\n",
       "      <td>Colombia</td>\n",
       "      <td>None</td>\n",
       "      <td>None</td>\n",
       "      <td>None</td>\n",
       "      <td>01-1969</td>\n",
       "      <td>federacion nacional de cafeteros</td>\n",
       "      <td>None</td>\n",
       "      <td>...</td>\n",
       "      <td>None</td>\n",
       "      <td>1.0</td>\n",
       "      <td>March 11th, 2016</td>\n",
       "      <td>Almacafé</td>\n",
       "      <td>e493c36c2d076bf273064f7ac23ad562af257a25</td>\n",
       "      <td>70d3c0c26f89e00fdae6fb39ff54f0d2eb1c38ab</td>\n",
       "      <td>m</td>\n",
       "      <td>NaN</td>\n",
       "      <td>NaN</td>\n",
       "      <td>NaN</td>\n",
       "    </tr>\n",
       "    <tr>\n",
       "      <th>534</th>\n",
       "      <td>82.92</td>\n",
       "      <td>Arabica</td>\n",
       "      <td>consejo salvadoreño del café</td>\n",
       "      <td>El Salvador</td>\n",
       "      <td>santa josefita</td>\n",
       "      <td>1-198</td>\n",
       "      <td>beneficio cuzcachapa</td>\n",
       "      <td>09-030-273</td>\n",
       "      <td>soc. coop. cuzcachapa de r.l.</td>\n",
       "      <td>1350</td>\n",
       "      <td>...</td>\n",
       "      <td>Green</td>\n",
       "      <td>1.0</td>\n",
       "      <td>August 28th, 2018</td>\n",
       "      <td>Salvadoran Coffee Council</td>\n",
       "      <td>3d4987e3b91399dbb3938b5bdf53893b6ef45be1</td>\n",
       "      <td>27b21e368fb8291cbea02c60623fe6c98f84524d</td>\n",
       "      <td>m</td>\n",
       "      <td>1350.0</td>\n",
       "      <td>1350.0</td>\n",
       "      <td>1350.0</td>\n",
       "    </tr>\n",
       "    <tr>\n",
       "      <th>801</th>\n",
       "      <td>82.00</td>\n",
       "      <td>Arabica</td>\n",
       "      <td>lin, che-hao krude 林哲豪</td>\n",
       "      <td>Taiwan</td>\n",
       "      <td>you siang coffee farmtainan, taiwan 台灣台南優香咖啡</td>\n",
       "      <td>None</td>\n",
       "      <td>you siang coffee farmtainan, taiwan 台灣台南優香咖啡</td>\n",
       "      <td>Taiwan</td>\n",
       "      <td>red on tree co., ltd.</td>\n",
       "      <td>600m</td>\n",
       "      <td>...</td>\n",
       "      <td>Green</td>\n",
       "      <td>0.0</td>\n",
       "      <td>July 22nd, 2015</td>\n",
       "      <td>Specialty Coffee Association</td>\n",
       "      <td>36d0d00a3724338ba7937c52a378d085f2172daa</td>\n",
       "      <td>0878a7d4b9d35ddbf0fe2ce69a2062cceb45a660</td>\n",
       "      <td>m</td>\n",
       "      <td>600.0</td>\n",
       "      <td>600.0</td>\n",
       "      <td>600.0</td>\n",
       "    </tr>\n",
       "    <tr>\n",
       "      <th>1068</th>\n",
       "      <td>80.50</td>\n",
       "      <td>Arabica</td>\n",
       "      <td>cqi taiwan icp cqi台灣合作夥伴</td>\n",
       "      <td>Taiwan</td>\n",
       "      <td>王秋金</td>\n",
       "      <td>1</td>\n",
       "      <td>non</td>\n",
       "      <td>None</td>\n",
       "      <td>王秋金</td>\n",
       "      <td>50</td>\n",
       "      <td>...</td>\n",
       "      <td>Blue-Green</td>\n",
       "      <td>0.0</td>\n",
       "      <td>December 8th, 2018</td>\n",
       "      <td>Blossom Valley International</td>\n",
       "      <td>fc45352eee499d8470cf94c9827922fb745bf815</td>\n",
       "      <td>de73fc9412358b523d3a641501e542f31d2668b0</td>\n",
       "      <td>m</td>\n",
       "      <td>50.0</td>\n",
       "      <td>50.0</td>\n",
       "      <td>50.0</td>\n",
       "    </tr>\n",
       "    <tr>\n",
       "      <th>1335</th>\n",
       "      <td>77.17</td>\n",
       "      <td>Robusta</td>\n",
       "      <td>james moore</td>\n",
       "      <td>United States</td>\n",
       "      <td>fazenda cazengo</td>\n",
       "      <td>None</td>\n",
       "      <td>cafe cazengo</td>\n",
       "      <td>None</td>\n",
       "      <td>global opportunity fund</td>\n",
       "      <td>795 meters</td>\n",
       "      <td>...</td>\n",
       "      <td>None</td>\n",
       "      <td>6.0</td>\n",
       "      <td>December 23rd, 2015</td>\n",
       "      <td>Specialty Coffee Association</td>\n",
       "      <td>ff7c18ad303d4b603ac3f8cff7e611ffc735e720</td>\n",
       "      <td>352d0cf7f3e9be14dad7df644ad65efc27605ae2</td>\n",
       "      <td>m</td>\n",
       "      <td>795.0</td>\n",
       "      <td>795.0</td>\n",
       "      <td>795.0</td>\n",
       "    </tr>\n",
       "  </tbody>\n",
       "</table>\n",
       "<p>6 rows × 43 columns</p>\n",
       "</div>"
      ],
      "text/plain": [
       "      total_cup_points  species                             owner  \\\n",
       "0                90.58  Arabica                         metad plc   \n",
       "267              83.92  Arabica  federacion nacional de cafeteros   \n",
       "534              82.92  Arabica      consejo salvadoreño del café   \n",
       "801              82.00  Arabica            lin, che-hao krude 林哲豪   \n",
       "1068             80.50  Arabica          cqi taiwan icp cqi台灣合作夥伴   \n",
       "1335             77.17  Robusta                       james moore   \n",
       "\n",
       "     country_of_origin                                     farm_name  \\\n",
       "0             Ethiopia                                     metad plc   \n",
       "267           Colombia                                          None   \n",
       "534        El Salvador                                santa josefita   \n",
       "801             Taiwan  you siang coffee farmtainan, taiwan 台灣台南優香咖啡   \n",
       "1068            Taiwan                                           王秋金   \n",
       "1335     United States                               fazenda cazengo   \n",
       "\n",
       "     lot_number                                          mill  ico_number  \\\n",
       "0          None                                     metad plc   2014/2015   \n",
       "267        None                                          None     01-1969   \n",
       "534       1-198                          beneficio cuzcachapa  09-030-273   \n",
       "801        None  you siang coffee farmtainan, taiwan 台灣台南優香咖啡      Taiwan   \n",
       "1068          1                                           non        None   \n",
       "1335       None                                  cafe cazengo        None   \n",
       "\n",
       "                                company    altitude  ...       color  \\\n",
       "0     metad agricultural developmet plc   1950-2200  ...       Green   \n",
       "267    federacion nacional de cafeteros        None  ...        None   \n",
       "534       soc. coop. cuzcachapa de r.l.        1350  ...       Green   \n",
       "801               red on tree co., ltd.        600m  ...       Green   \n",
       "1068                                王秋金          50  ...  Blue-Green   \n",
       "1335            global opportunity fund  795 meters  ...        None   \n",
       "\n",
       "     category_two_defects           expiration  \\\n",
       "0                     0.0      April 3rd, 2016   \n",
       "267                   1.0     March 11th, 2016   \n",
       "534                   1.0    August 28th, 2018   \n",
       "801                   0.0      July 22nd, 2015   \n",
       "1068                  0.0   December 8th, 2018   \n",
       "1335                  6.0  December 23rd, 2015   \n",
       "\n",
       "                      certification_body  \\\n",
       "0     METAD Agricultural Development plc   \n",
       "267                             Almacafé   \n",
       "534            Salvadoran Coffee Council   \n",
       "801         Specialty Coffee Association   \n",
       "1068        Blossom Valley International   \n",
       "1335        Specialty Coffee Association   \n",
       "\n",
       "                         certification_address  \\\n",
       "0     309fcf77415a3661ae83e027f7e5f05dad786e44   \n",
       "267   e493c36c2d076bf273064f7ac23ad562af257a25   \n",
       "534   3d4987e3b91399dbb3938b5bdf53893b6ef45be1   \n",
       "801   36d0d00a3724338ba7937c52a378d085f2172daa   \n",
       "1068  fc45352eee499d8470cf94c9827922fb745bf815   \n",
       "1335  ff7c18ad303d4b603ac3f8cff7e611ffc735e720   \n",
       "\n",
       "                         certification_contact unit_of_measurement  \\\n",
       "0     19fef5a731de2db57d16da10287413f5f99bc2dd                   m   \n",
       "267   70d3c0c26f89e00fdae6fb39ff54f0d2eb1c38ab                   m   \n",
       "534   27b21e368fb8291cbea02c60623fe6c98f84524d                   m   \n",
       "801   0878a7d4b9d35ddbf0fe2ce69a2062cceb45a660                   m   \n",
       "1068  de73fc9412358b523d3a641501e542f31d2668b0                   m   \n",
       "1335  352d0cf7f3e9be14dad7df644ad65efc27605ae2                   m   \n",
       "\n",
       "     altitude_low_meters altitude_high_meters altitude_mean_meters  \n",
       "0                 1950.0               2200.0               2075.0  \n",
       "267                  NaN                  NaN                  NaN  \n",
       "534               1350.0               1350.0               1350.0  \n",
       "801                600.0                600.0                600.0  \n",
       "1068                50.0                 50.0                 50.0  \n",
       "1335               795.0                795.0                795.0  \n",
       "\n",
       "[6 rows x 43 columns]"
      ]
     },
     "execution_count": 52,
     "metadata": {},
     "output_type": "execute_result"
    }
   ],
   "source": [
    "coffee.loc[::267]"
   ]
  },
  {
   "cell_type": "markdown",
   "metadata": {},
   "source": [
    "**The trouble with systematic sampling**"
   ]
  },
  {
   "cell_type": "code",
   "execution_count": 53,
   "metadata": {},
   "outputs": [
    {
     "data": {
      "image/png": "[encoded data removed]",
      "text/plain": [
       "<Figure size 640x480 with 1 Axes>"
      ]
     },
     "metadata": {},
     "output_type": "display_data"
    }
   ],
   "source": [
    "coffee = coffee.reset_index()\n",
    "coffee.plot(x=\"index\", y=\"aftertaste\", kind=\"scatter\")\n",
    "plt.show()"
   ]
  },
  {
   "cell_type": "markdown",
   "metadata": {},
   "source": [
    "It is only safe to use systematical sampling when we don't have pattern like this, where there is clearly a bias"
   ]
  },
  {
   "cell_type": "markdown",
   "metadata": {},
   "source": [
    "**Making sure systematic sampling safe**"
   ]
  },
  {
   "cell_type": "code",
   "execution_count": 54,
   "metadata": {},
   "outputs": [
    {
     "data": {
      "text/plain": [
       "[]"
      ]
     },
     "execution_count": 54,
     "metadata": {},
     "output_type": "execute_result"
    },
    {
     "data": {
      "image/png": "[encoded data removed]",
      "text/plain": [
       "<Figure size 640x480 with 1 Axes>"
      ]
     },
     "metadata": {},
     "output_type": "display_data"
    }
   ],
   "source": [
    "coffee = pd.read_feather(\"databases/coffee_ratings_full.feather\")\n",
    "#frac returns new dataframe with rows shuffles or a random part of dataset in a random order (like 10% or 20%)\n",
    "shuffled = coffee.sample(frac=1) \n",
    "\n",
    "#Because of the shuffle indexes got mixed up in order, so we first set a proper order from to n-1 (setting True to delete previous values)\n",
    "#Then we reset index one more time to use it as column\n",
    "shuffled = shuffled.reset_index(drop=True).reset_index()\n",
    "\n",
    "shuffled.plot(x=\"index\", y=\"aftertaste\", kind=\"scatter\")\n",
    "plt.plot()"
   ]
  },
  {
   "cell_type": "markdown",
   "metadata": {},
   "source": [
    "Now thanks to the shuffle there is no such pattern as before"
   ]
  },
  {
   "cell_type": "markdown",
   "metadata": {},
   "source": [
    "Notice that once we have shuffled the rows, systematic approach is basically the same as simple random sampling"
   ]
  },
  {
   "cell_type": "markdown",
   "metadata": {},
   "source": [
    "### Stratified and weighted random sampling"
   ]
  },
  {
   "cell_type": "code",
   "execution_count": 55,
   "metadata": {},
   "outputs": [
    {
     "data": {
      "text/plain": [
       "(880, 43)"
      ]
     },
     "execution_count": 55,
     "metadata": {},
     "output_type": "execute_result"
    }
   ],
   "source": [
    "top_counted_countries = ['Mexico', 'Colombia', 'Guatemala',\n",
    "                         'Brazil', 'Taiwan', 'United States (Hawaii)']\n",
    "\n",
    "top_counted_susbset = coffee['country_of_origin'].isin(top_counted_countries)\n",
    "\n",
    "coffee_ratings_top = coffee[top_counted_susbset]\n",
    "coffee_ratings_top.shape"
   ]
  },
  {
   "cell_type": "markdown",
   "metadata": {},
   "source": [
    "Description: The frac parameter specifies the fraction of rows to be returned from the DataFrame. It should be a float between 0 and 1, inclusive.\n",
    "\n",
    "However these random rows are returned in random order or in other words are shuffled"
   ]
  },
  {
   "cell_type": "markdown",
   "metadata": {},
   "source": [
    "In the cell below we have taken a 10% sample of our population and compared it with the distribution of the whole population"
   ]
  },
  {
   "cell_type": "code",
   "execution_count": 56,
   "metadata": {},
   "outputs": [
    {
     "data": {
      "text/plain": [
       "country_of_origin\n",
       "Mexico                    0.250000\n",
       "Guatemala                 0.204545\n",
       "Colombia                  0.181818\n",
       "Brazil                    0.181818\n",
       "United States (Hawaii)    0.102273\n",
       "Taiwan                    0.079545\n",
       "Name: proportion, dtype: float64"
      ]
     },
     "execution_count": 56,
     "metadata": {},
     "output_type": "execute_result"
    }
   ],
   "source": [
    "coffee_ratings_samp = coffee_ratings_top.sample(frac=0.1, random_state=2021)\n",
    "coffee_ratings_samp['country_of_origin'].value_counts(normalize=True)"
   ]
  },
  {
   "cell_type": "code",
   "execution_count": 57,
   "metadata": {},
   "outputs": [
    {
     "data": {
      "text/plain": [
       "country_of_origin\n",
       "Mexico                    0.268182\n",
       "Colombia                  0.207955\n",
       "Guatemala                 0.205682\n",
       "Brazil                    0.150000\n",
       "Taiwan                    0.085227\n",
       "United States (Hawaii)    0.082955\n",
       "Name: proportion, dtype: float64"
      ]
     },
     "execution_count": 57,
     "metadata": {},
     "output_type": "execute_result"
    }
   ],
   "source": [
    "coffee_ratings_top['country_of_origin'].value_counts(normalize=True)"
   ]
  },
  {
   "cell_type": "markdown",
   "metadata": {},
   "source": [
    "**Proportional stratified sampling**"
   ]
  },
  {
   "cell_type": "code",
   "execution_count": 58,
   "metadata": {},
   "outputs": [],
   "source": [
    "coffee_rating_strat = coffee_ratings_top.groupby(\"country_of_origin\")\\\n",
    "    .sample(frac=0.1, random_state=2021)"
   ]
  },
  {
   "cell_type": "markdown",
   "metadata": {},
   "source": [
    "Calling the dot-sample method after grouping takes a simple random sample within each country"
   ]
  },
  {
   "cell_type": "code",
   "execution_count": 59,
   "metadata": {},
   "outputs": [
    {
     "data": {
      "text/plain": [
       "country_of_origin\n",
       "Mexico                    0.272727\n",
       "Colombia                  0.204545\n",
       "Guatemala                 0.204545\n",
       "Brazil                    0.147727\n",
       "Taiwan                    0.090909\n",
       "United States (Hawaii)    0.079545\n",
       "Name: proportion, dtype: float64"
      ]
     },
     "execution_count": 59,
     "metadata": {},
     "output_type": "execute_result"
    }
   ],
   "source": [
    "coffee_rating_strat['country_of_origin'].value_counts(normalize=True)"
   ]
  },
  {
   "cell_type": "markdown",
   "metadata": {},
   "source": [
    "Now the results seem to be much closer to the actual distribution"
   ]
  },
  {
   "cell_type": "markdown",
   "metadata": {},
   "source": [
    "**Equal counts stratified sampling**"
   ]
  },
  {
   "cell_type": "code",
   "execution_count": 60,
   "metadata": {},
   "outputs": [
    {
     "data": {
      "text/plain": [
       "country_of_origin\n",
       "Brazil                    0.166667\n",
       "Colombia                  0.166667\n",
       "Guatemala                 0.166667\n",
       "Mexico                    0.166667\n",
       "Taiwan                    0.166667\n",
       "United States (Hawaii)    0.166667\n",
       "Name: proportion, dtype: float64"
      ]
     },
     "execution_count": 60,
     "metadata": {},
     "output_type": "execute_result"
    }
   ],
   "source": [
    "coffee_ratings_eq = coffee_ratings_top.groupby(\"country_of_origin\")\\\n",
    "    .sample(n=15, random_state=2021)\n",
    "\n",
    "coffee_ratings_eq['country_of_origin'].value_counts(normalize=True)"
   ]
  },
  {
   "cell_type": "markdown",
   "metadata": {},
   "source": [
    "We got equal proportions as we have randomly chosen 15 examples of each country"
   ]
  },
  {
   "cell_type": "markdown",
   "metadata": {},
   "source": [
    "**Weighted random sampling**"
   ]
  },
  {
   "cell_type": "markdown",
   "metadata": {},
   "source": [
    "Specify weights to adjust the relative probability of a row being sampled"
   ]
  },
  {
   "cell_type": "code",
   "execution_count": 61,
   "metadata": {},
   "outputs": [],
   "source": [
    "coffee_ratings_weight = coffee_ratings_top.copy()\n",
    "condition = coffee_ratings_weight['country_of_origin'] == \"Taiwan\"\n",
    "\n",
    "#coffees made in Taiwan have two times the chance of being picked compared to other coffees\n",
    "coffee_ratings_weight['weight'] = np.where(condition, 2, 1)\n",
    "\n",
    "coffee_ratings_weight = coffee_ratings_weight.sample(frac=0.1, weights=\"weight\")"
   ]
  },
  {
   "cell_type": "code",
   "execution_count": 62,
   "metadata": {},
   "outputs": [
    {
     "data": {
      "text/plain": [
       "country_of_origin\n",
       "Mexico                    0.272727\n",
       "Guatemala                 0.181818\n",
       "Brazil                    0.181818\n",
       "Colombia                  0.181818\n",
       "Taiwan                    0.136364\n",
       "United States (Hawaii)    0.045455\n",
       "Name: proportion, dtype: float64"
      ]
     },
     "execution_count": 62,
     "metadata": {},
     "output_type": "execute_result"
    }
   ],
   "source": [
    "coffee_ratings_weight['country_of_origin'].value_counts(normalize=True)"
   ]
  },
  {
   "cell_type": "markdown",
   "metadata": {},
   "source": [
    "***Stratified sampling is useful if you care about subgroups. Otherwise, simple random sampling is more appropriate.***"
   ]
  },
  {
   "cell_type": "markdown",
   "metadata": {},
   "source": [
    "Task 1 - to better get the idea of weights"
   ]
  },
  {
   "cell_type": "code",
   "execution_count": null,
   "metadata": {},
   "outputs": [],
   "source": [
    "# Plot YearsAtCompany from attrition_pop as a histogram\n",
    "attrition_pop['YearsAtCompany'].hist(bins=np.arange(0, 41, 1))\n",
    "plt.show()\n",
    "\n",
    "# Sample 400 employees weighted by YearsAtCompany\n",
    "attrition_weight = attrition_pop.sample(n=400, weights=\"YearsAtCompany\")\n",
    "\n",
    "# Plot YearsAtCompany from attrition_weight as a histogram\n",
    "attrition_weight.hist(\"YearsAtCompany\", bins=np.arange(0, 41, 1))\n",
    "plt.show()"
   ]
  },
  {
   "cell_type": "markdown",
   "metadata": {},
   "source": [
    "### Cluster Sampling"
   ]
  },
  {
   "cell_type": "markdown",
   "metadata": {},
   "source": [
    "One problem with stratified sampling is that we have to collect data from every subgroup"
   ]
  },
  {
   "cell_type": "markdown",
   "metadata": {},
   "source": [
    "**Stratified sampling:**\n",
    "- split the population into subgroups\n",
    "- use simple random sampling on every subgroup"
   ]
  },
  {
   "cell_type": "markdown",
   "metadata": {},
   "source": [
    "**Cluster sampling:**\n",
    "- use simple random sampling to pick some subgroups\n",
    "- use simple random sampling ononly those subgroups"
   ]
  },
  {
   "cell_type": "code",
   "execution_count": 65,
   "metadata": {},
   "outputs": [],
   "source": [
    "varieties_pop = list(coffee[\"variety\"].unique())"
   ]
  },
  {
   "cell_type": "markdown",
   "metadata": {},
   "source": [
    "Step 1: sampling for subgroups"
   ]
  },
  {
   "cell_type": "code",
   "execution_count": 66,
   "metadata": {},
   "outputs": [
    {
     "data": {
      "text/plain": [
       "['SL14', 'Gesha', 'Other']"
      ]
     },
     "execution_count": 66,
     "metadata": {},
     "output_type": "execute_result"
    }
   ],
   "source": [
    "import random \n",
    "\n",
    "varieties_samp = random.sample(varieties_pop, k=3)\n",
    "varieties_samp"
   ]
  },
  {
   "cell_type": "markdown",
   "metadata": {},
   "source": [
    "Step 2: sampling each group"
   ]
  },
  {
   "cell_type": "code",
   "execution_count": null,
   "metadata": {},
   "outputs": [],
   "source": [
    "variety_condition = coffee['variety'].isin(varieties_samp)\n",
    "coffee_ratings_cluster = coffee[variety_condition]\n",
    "\n",
    "coffee_ratings_cluster[\"variety\"] = coffee_ratings_cluster[\"variety\"].cat.remove_unused_categories()\n",
    "\n",
    "coffee_ratings_cluster.groupby(\"variety\")\\\n",
    "    .sample(n=5, random_state=2021)"
   ]
  },
  {
   "cell_type": "markdown",
   "metadata": {},
   "source": [
    "**Recap given by the DataCamp:**\n",
    "\n",
    "You learned about cluster sampling, a cost-effective alternative to stratified sampling, especially useful when data collection is expensive. Unlike stratified sampling, which requires data from every subgroup, cluster sampling involves selecting a few subgroups randomly and then performing simple random sampling within those subgroups. Key points include:\n",
    "\n",
    "Definition and Use: Cluster sampling is a two-stage technique where you first randomly select subgroups to include in your sample and then randomly sample within these subgroups. This method is particularly beneficial when the cost and effort of collecting data from all subgroups are prohibitive.\n",
    "\n",
    "Practical Application: Through exercises, you applied cluster sampling to the coffee dataset by selecting a random set of coffee varieties and then sampling within these varieties. This approach was demonstrated using Python's random.sample function for the initial selection and pandas' filtering methods for the second-stage sampling.\n",
    "\n",
    "For example, to select three random coffee varieties:\n",
    "\n",
    "`varieties_selected = random.sample(list_of_varieties, k=3)`\n",
    "Benefits: The main advantage of cluster sampling over stratified sampling is its efficiency in terms of cost and time, especially in scenarios requiring extensive data collection efforts across various subgroups.\n",
    "\n",
    "By the end of the lesson, you were able to understand when and how to use cluster sampling, recognizing its benefits in reducing the number of subgroups sampled, thus saving time and resources."
   ]
  },
  {
   "cell_type": "markdown",
   "metadata": {},
   "source": [
    "### Comparing Sampling methods"
   ]
  },
  {
   "cell_type": "code",
   "execution_count": 68,
   "metadata": {},
   "outputs": [
    {
     "data": {
      "text/plain": [
       "(880, 8)"
      ]
     },
     "execution_count": 68,
     "metadata": {},
     "output_type": "execute_result"
    }
   ],
   "source": [
    "coffee_ratings = pd.read_feather(\"databases/coffee_ratings_full.feather\")\n",
    "coffee_ratings = coffee_ratings[[\"total_cup_points\", \"variety\", \"country_of_origin\", \"aroma\", \"flavor\", \"aftertaste\", \"body\", \"balance\"]]\n",
    "coffee_ratings[\"country_of_origin\"] = coffee_ratings[\"country_of_origin\"].astype('category')\n",
    "\n",
    "top_counted_countries = ['Mexico', 'Colombia', 'Guatemala',\n",
    "                         'Brazil', 'Taiwan', 'United States (Hawaii)']\n",
    "\n",
    "top_counted_susbset = coffee_ratings['country_of_origin'].isin(top_counted_countries)\n",
    "\n",
    "coffee_ratings_top = coffee_ratings[top_counted_susbset]\n",
    "coffee_ratings_top.shape"
   ]
  },
  {
   "cell_type": "markdown",
   "metadata": {},
   "source": [
    "***Review of simple random sampling***"
   ]
  },
  {
   "cell_type": "code",
   "execution_count": 69,
   "metadata": {},
   "outputs": [
    {
     "data": {
      "text/plain": [
       "(293, 8)"
      ]
     },
     "execution_count": 69,
     "metadata": {},
     "output_type": "execute_result"
    }
   ],
   "source": [
    "coffee_ratings_srs = coffee_ratings_top.sample(frac=1/3, random_state=2021)\n",
    "\n",
    "#frac or n parameters define how many rows to pseudo-randomly choose,\n",
    "#given the seed value set with random state\n",
    "\n",
    "coffee_ratings_srs.shape    #1/3 * 880 = 293"
   ]
  },
  {
   "cell_type": "markdown",
   "metadata": {},
   "source": [
    "***Review of stratified sampling***"
   ]
  },
  {
   "cell_type": "code",
   "execution_count": 70,
   "metadata": {},
   "outputs": [
    {
     "data": {
      "text/plain": [
       "(293, 8)"
      ]
     },
     "execution_count": 70,
     "metadata": {},
     "output_type": "execute_result"
    }
   ],
   "source": [
    "coffee_ratings_strat = coffee_ratings_top.groupby(\"country_of_origin\", observed=False)\\\n",
    "    .sample(frac=1/3, random_state=2021)\n",
    "\n",
    "#Groups by the country subgroup before performing simple random sampling on each subgroup\n",
    "\n",
    "coffee_ratings_strat.shape"
   ]
  },
  {
   "cell_type": "markdown",
   "metadata": {},
   "source": [
    "***Review of cluster sampling***"
   ]
  },
  {
   "cell_type": "code",
   "execution_count": null,
   "metadata": {},
   "outputs": [],
   "source": [
    "import random\n",
    "\n",
    "top_countries_samp = random.sample(top_counted_countries, k=2)\n",
    "top_condition = coffee_ratings_top[\"country_of_origin\"].isin(top_countries_samp)\n",
    "coffee_ratings_cluster = coffee_ratings_top[top_condition]\n",
    "coffee_ratings_cluster[\"country_of_origin\"] = coffee_ratings_cluster[\"country_of_origin\"]\\\n",
    "    .cat.remove_unused_categories()\n",
    "\n",
    "coffee_ratings_clust = coffee_ratings_cluster.groupby('country_of_origin', observed=False)\\\n",
    "    .sample(n=len(coffee_ratings_top) // 6)"
   ]
  },
  {
   "cell_type": "markdown",
   "metadata": {},
   "source": [
    "***Calculating mean cup points***"
   ]
  },
  {
   "cell_type": "code",
   "execution_count": 72,
   "metadata": {},
   "outputs": [
    {
     "name": "stdout",
     "output_type": "stream",
     "text": [
      "Population:\n",
      "81.94700000000002\n",
      "Stratified sample:\n",
      "82.30136363636365\n",
      "Simple random sample:\n",
      "81.91331058020478\n"
     ]
    }
   ],
   "source": [
    "print(\"Population:\")\n",
    "print(coffee_ratings_top[\"total_cup_points\"].mean())\n",
    "print(\"Stratified sample:\")\n",
    "print(coffee_rating_strat[\"total_cup_points\"].mean())\n",
    "print(\"Simple random sample:\")\n",
    "print(coffee_ratings_srs[\"total_cup_points\"].mean())"
   ]
  },
  {
   "cell_type": "markdown",
   "metadata": {},
   "source": [
    "***Mean cup points by country: simple random***"
   ]
  },
  {
   "cell_type": "code",
   "execution_count": 73,
   "metadata": {},
   "outputs": [
    {
     "data": {
      "text/plain": [
       "country_of_origin\n",
       "Brazil                          82.405909\n",
       "Burundi                               NaN\n",
       "China                                 NaN\n",
       "Colombia                        83.106557\n",
       "Costa Rica                            NaN\n",
       "Cote d?Ivoire                         NaN\n",
       "Ecuador                               NaN\n",
       "El Salvador                           NaN\n",
       "Ethiopia                              NaN\n",
       "Guatemala                       81.846575\n",
       "Haiti                                 NaN\n",
       "Honduras                              NaN\n",
       "India                                 NaN\n",
       "Indonesia                             NaN\n",
       "Japan                                 NaN\n",
       "Kenya                                 NaN\n",
       "Laos                                  NaN\n",
       "Malawi                                NaN\n",
       "Mauritius                             NaN\n",
       "Mexico                          80.890085\n",
       "Myanmar                               NaN\n",
       "Nicaragua                             NaN\n",
       "Panama                                NaN\n",
       "Papua New Guinea                      NaN\n",
       "Peru                                  NaN\n",
       "Philippines                           NaN\n",
       "Rwanda                                NaN\n",
       "Taiwan                          82.001333\n",
       "Tanzania, United Republic Of          NaN\n",
       "Thailand                              NaN\n",
       "Uganda                                NaN\n",
       "United States                         NaN\n",
       "United States (Hawaii)          81.820411\n",
       "United States (Puerto Rico)           NaN\n",
       "Vietnam                               NaN\n",
       "Zambia                                NaN\n",
       "Name: total_cup_points, dtype: float64"
      ]
     },
     "execution_count": 73,
     "metadata": {},
     "output_type": "execute_result"
    }
   ],
   "source": [
    "coffee_ratings_top.groupby(\"country_of_origin\", observed=False)\\\n",
    "    ['total_cup_points'].mean()"
   ]
  },
  {
   "cell_type": "code",
   "execution_count": 74,
   "metadata": {},
   "outputs": [
    {
     "data": {
      "text/plain": [
       "country_of_origin\n",
       "Brazil                          82.251875\n",
       "Burundi                               NaN\n",
       "China                                 NaN\n",
       "Colombia                        82.961014\n",
       "Costa Rica                            NaN\n",
       "Cote d?Ivoire                         NaN\n",
       "Ecuador                               NaN\n",
       "El Salvador                           NaN\n",
       "Ethiopia                              NaN\n",
       "Guatemala                       81.392917\n",
       "Haiti                                 NaN\n",
       "Honduras                              NaN\n",
       "India                                 NaN\n",
       "Indonesia                             NaN\n",
       "Japan                                 NaN\n",
       "Kenya                                 NaN\n",
       "Laos                                  NaN\n",
       "Malawi                                NaN\n",
       "Mauritius                             NaN\n",
       "Mexico                          81.152000\n",
       "Myanmar                               NaN\n",
       "Nicaragua                             NaN\n",
       "Panama                                NaN\n",
       "Papua New Guinea                      NaN\n",
       "Peru                                  NaN\n",
       "Philippines                           NaN\n",
       "Rwanda                                NaN\n",
       "Taiwan                          81.957391\n",
       "Tanzania, United Republic Of          NaN\n",
       "Thailand                              NaN\n",
       "Uganda                                NaN\n",
       "United States                         NaN\n",
       "United States (Hawaii)          81.766400\n",
       "United States (Puerto Rico)           NaN\n",
       "Vietnam                               NaN\n",
       "Zambia                                NaN\n",
       "Name: total_cup_points, dtype: float64"
      ]
     },
     "execution_count": 74,
     "metadata": {},
     "output_type": "execute_result"
    }
   ],
   "source": [
    "coffee_ratings_srs.groupby(\"country_of_origin\", observed=False)\\\n",
    "    ['total_cup_points'].mean()"
   ]
  },
  {
   "cell_type": "markdown",
   "metadata": {},
   "source": [
    "***Mean cup points by country: stratified***"
   ]
  },
  {
   "cell_type": "code",
   "execution_count": 75,
   "metadata": {},
   "outputs": [
    {
     "data": {
      "text/plain": [
       "country_of_origin\n",
       "Brazil                          82.499773\n",
       "Burundi                               NaN\n",
       "China                                 NaN\n",
       "Colombia                        83.288197\n",
       "Costa Rica                            NaN\n",
       "Cote d?Ivoire                         NaN\n",
       "Ecuador                               NaN\n",
       "El Salvador                           NaN\n",
       "Ethiopia                              NaN\n",
       "Guatemala                       81.727667\n",
       "Haiti                                 NaN\n",
       "Honduras                              NaN\n",
       "India                                 NaN\n",
       "Indonesia                             NaN\n",
       "Japan                                 NaN\n",
       "Kenya                                 NaN\n",
       "Laos                                  NaN\n",
       "Malawi                                NaN\n",
       "Mauritius                             NaN\n",
       "Mexico                          80.994684\n",
       "Myanmar                               NaN\n",
       "Nicaragua                             NaN\n",
       "Panama                                NaN\n",
       "Papua New Guinea                      NaN\n",
       "Peru                                  NaN\n",
       "Philippines                           NaN\n",
       "Rwanda                                NaN\n",
       "Taiwan                          81.846800\n",
       "Tanzania, United Republic Of          NaN\n",
       "Thailand                              NaN\n",
       "Uganda                                NaN\n",
       "United States                         NaN\n",
       "United States (Hawaii)          81.051667\n",
       "United States (Puerto Rico)           NaN\n",
       "Vietnam                               NaN\n",
       "Zambia                                NaN\n",
       "Name: total_cup_points, dtype: float64"
      ]
     },
     "execution_count": 75,
     "metadata": {},
     "output_type": "execute_result"
    }
   ],
   "source": [
    "coffee_ratings_strat.groupby(\"country_of_origin\", observed=False)\\\n",
    "    ['total_cup_points'].mean()"
   ]
  },
  {
   "cell_type": "markdown",
   "metadata": {},
   "source": [
    "<hr>"
   ]
  },
  {
   "cell_type": "markdown",
   "metadata": {},
   "source": [
    "## Chapter 3: Sampling Distributions"
   ]
  },
  {
   "cell_type": "markdown",
   "metadata": {},
   "source": [
    "### Relative error of point estimates"
   ]
  },
  {
   "cell_type": "markdown",
   "metadata": {},
   "source": [
    "Sample size - is the number of rows"
   ]
  },
  {
   "cell_type": "markdown",
   "metadata": {},
   "source": [
    "**Comparing various sample size:**"
   ]
  },
  {
   "cell_type": "code",
   "execution_count": 76,
   "metadata": {},
   "outputs": [
    {
     "data": {
      "text/plain": [
       "82.15120328849028"
      ]
     },
     "execution_count": 76,
     "metadata": {},
     "output_type": "execute_result"
    }
   ],
   "source": [
    "coffee_ratings[\"total_cup_points\"].mean()"
   ]
  },
  {
   "cell_type": "code",
   "execution_count": 77,
   "metadata": {},
   "outputs": [
    {
     "data": {
      "text/plain": [
       "81.674"
      ]
     },
     "execution_count": 77,
     "metadata": {},
     "output_type": "execute_result"
    }
   ],
   "source": [
    "coffee_ratings.sample(n=10)[\"total_cup_points\"].mean()"
   ]
  },
  {
   "cell_type": "code",
   "execution_count": 78,
   "metadata": {},
   "outputs": [
    {
     "data": {
      "text/plain": [
       "82.4831"
      ]
     },
     "execution_count": 78,
     "metadata": {},
     "output_type": "execute_result"
    }
   ],
   "source": [
    "coffee_ratings.sample(n=100)[\"total_cup_points\"].mean()"
   ]
  },
  {
   "cell_type": "code",
   "execution_count": 79,
   "metadata": {},
   "outputs": [
    {
     "data": {
      "text/plain": [
       "82.15658"
      ]
     },
     "execution_count": 79,
     "metadata": {},
     "output_type": "execute_result"
    }
   ],
   "source": [
    "coffee_ratings.sample(n=1000)[\"total_cup_points\"].mean()"
   ]
  },
  {
   "cell_type": "markdown",
   "metadata": {},
   "source": [
    "Larger sample sizes will give "
   ]
  },
  {
   "cell_type": "markdown",
   "metadata": {},
   "source": [
    "*Population parameter:*\n",
    "\n",
    "`population_mean = coffee_ratings[\"total_cup_points\"].mean()`\n",
    "\n",
    "*Point estimate:*\n",
    "\n",
    "`sample_mean = coffee_ratings.sample(n=sample_size)[\"total_cup_points\"].mean()`"
   ]
  },
  {
   "cell_type": "markdown",
   "metadata": {},
   "source": [
    "The most common metric for assessing the difference between the population and a sample mean is the **relative error**"
   ]
  },
  {
   "cell_type": "markdown",
   "metadata": {},
   "source": [
    "`rel_error_pct = 100 * abs(population_mean - sample_mean) / population_mean`"
   ]
  },
  {
   "cell_type": "markdown",
   "metadata": {},
   "source": [
    "Task 1"
   ]
  },
  {
   "cell_type": "code",
   "execution_count": null,
   "metadata": {},
   "outputs": [],
   "source": [
    "# Generate a simple random sample of 50 rows, with seed 2022\n",
    "attrition_srs50 = attrition_pop.sample(n=50, random_state=2022)\n",
    "\n",
    "# Calculate the mean employee attrition in the sample\n",
    "mean_attrition_srs50 = attrition_srs50[\"Attrition\"].mean()\n",
    "\n",
    "# Calculate the relative error percentage\n",
    "rel_error_pct50 = 100 * abs(mean_attrition_pop - mean_attrition_srs50) / mean_attrition_pop\n",
    "\n",
    "# Print rel_error_pct50\n",
    "print(rel_error_pct50)"
   ]
  },
  {
   "cell_type": "markdown",
   "metadata": {},
   "source": [
    "### Creating a sampling disrtibution"
   ]
  },
  {
   "cell_type": "markdown",
   "metadata": {},
   "source": [
    "Same code, different answer:"
   ]
  },
  {
   "cell_type": "code",
   "execution_count": 81,
   "metadata": {},
   "outputs": [
    {
     "name": "stdout",
     "output_type": "stream",
     "text": [
      "82.386\n",
      "82.03366666666668\n",
      "81.90033333333334\n",
      "82.092\n"
     ]
    }
   ],
   "source": [
    "print(coffee_ratings.sample(n=30)[\"total_cup_points\"].mean())\n",
    "print(coffee_ratings.sample(n=30)[\"total_cup_points\"].mean())\n",
    "print(coffee_ratings.sample(n=30)[\"total_cup_points\"].mean())\n",
    "print(coffee_ratings.sample(n=30)[\"total_cup_points\"].mean())"
   ]
  },
  {
   "cell_type": "markdown",
   "metadata": {},
   "source": [
    "Same code, 1000 times"
   ]
  },
  {
   "cell_type": "code",
   "execution_count": 82,
   "metadata": {},
   "outputs": [],
   "source": [
    "mean_cup_points_1000 = []\n",
    "for i in range(1000):\n",
    "    mean_cup_points_1000.append(\n",
    "        coffee_ratings.sample(n=30)[\"total_cup_points\"].mean()  #single element called replicate\n",
    "    )"
   ]
  },
  {
   "cell_type": "markdown",
   "metadata": {},
   "source": [
    "***To visualize distribution the best plot is often the histogram***\n",
    "\n",
    "**Distribution of sample means for size 30:**"
   ]
  },
  {
   "cell_type": "code",
   "execution_count": 83,
   "metadata": {},
   "outputs": [
    {
     "data": {
      "image/png": "[encoded data removed]",
      "text/plain": [
       "<Figure size 640x480 with 1 Axes>"
      ]
     },
     "metadata": {},
     "output_type": "display_data"
    }
   ],
   "source": [
    "plt.hist(mean_cup_points_1000, bins=30)\n",
    "plt.show()"
   ]
  },
  {
   "cell_type": "markdown",
   "metadata": {},
   "source": [
    "***A sampling distribution is a distribution of replicates of point estimates***"
   ]
  },
  {
   "cell_type": "markdown",
   "metadata": {},
   "source": [
    "### Approximate sampling distributions"
   ]
  },
  {
   "cell_type": "code",
   "execution_count": 84,
   "metadata": {},
   "outputs": [],
   "source": [
    "sample_means_1000 = []\n",
    "for i in range(1000):\n",
    "    sample_means_1000.append(\n",
    "        np.random.choice(list(range(1, 7)), size=4, replace=True).mean()\n",
    "    )"
   ]
  },
  {
   "cell_type": "code",
   "execution_count": 86,
   "metadata": {},
   "outputs": [
    {
     "data": {
      "image/png": "[encoded data removed]",
      "text/plain": [
       "<Figure size 640x480 with 1 Axes>"
      ]
     },
     "metadata": {},
     "output_type": "display_data"
    }
   ],
   "source": [
    "plt.hist(sample_means_1000, bins=20)\n",
    "plt.show()"
   ]
  },
  {
   "cell_type": "markdown",
   "metadata": {},
   "source": [
    "Usually, we don't have access to the whole population, so we can't calculate the exact sampling distribution, however we can feel relatively confident about using approximate distribution"
   ]
  },
  {
   "cell_type": "markdown",
   "metadata": {},
   "source": [
    "### Standard errors and the Central Limit Theorem"
   ]
  },
  {
   "cell_type": "markdown",
   "metadata": {},
   "source": [
    "As the sample size increases:\n",
    "- The distribution of the average gets closer to being normally distributed\n",
    "- The width of the sampling distribution gets narrower"
   ]
  },
  {
   "cell_type": "code",
   "execution_count": 102,
   "metadata": {},
   "outputs": [
    {
     "name": "stdout",
     "output_type": "stream",
     "text": [
      "2.685858187306438\n",
      "Sample 5\n",
      "3.6289847064985\n",
      "Sample 20\n",
      "1.1636467179563244\n",
      "Sample 80\n",
      "2.2345302192257126\n",
      "Sample 320\n",
      "3.0252382660574844\n"
     ]
    }
   ],
   "source": [
    "print(coffee_ratings[\"total_cup_points\"].std(ddof=0))\n",
    "\n",
    "print(\"Sample 5\")\n",
    "print(coffee_ratings.sample(5)[\"total_cup_points\"].std(ddof=1))\n",
    "print(\"Sample 20\")\n",
    "print(coffee_ratings.sample(20)[\"total_cup_points\"].std(ddof=1))\n",
    "print(\"Sample 80\")\n",
    "print(coffee_ratings.sample(80)[\"total_cup_points\"].std(ddof=1))\n",
    "print(\"Sample 320\")\n",
    "print(coffee_ratings.sample(320)[\"total_cup_points\"].std(ddof=1))"
   ]
  },
  {
   "cell_type": "markdown",
   "metadata": {},
   "source": [
    "Specify `ddof=0` when calling `.std()` on populations\n",
    "\n",
    "Specify `ddof=1` when calling `.std()` on samples"
   ]
  },
  {
   "cell_type": "markdown",
   "metadata": {},
   "source": [
    "<hr>"
   ]
  },
  {
   "cell_type": "markdown",
   "metadata": {},
   "source": [
    "## Chapter 4: Bootstrap Distributions"
   ]
  },
  {
   "cell_type": "markdown",
   "metadata": {},
   "source": [
    "### Introduction to bootstrapping"
   ]
  },
  {
   "cell_type": "code",
   "execution_count": 104,
   "metadata": {},
   "outputs": [
    {
     "data": {
      "text/html": [
       "<div>\n",
       "<style scoped>\n",
       "    .dataframe tbody tr th:only-of-type {\n",
       "        vertical-align: middle;\n",
       "    }\n",
       "\n",
       "    .dataframe tbody tr th {\n",
       "        vertical-align: top;\n",
       "    }\n",
       "\n",
       "    .dataframe thead th {\n",
       "        text-align: right;\n",
       "    }\n",
       "</style>\n",
       "<table border=\"1\" class=\"dataframe\">\n",
       "  <thead>\n",
       "    <tr style=\"text-align: right;\">\n",
       "      <th></th>\n",
       "      <th>index</th>\n",
       "      <th>variety</th>\n",
       "      <th>country_of_origin</th>\n",
       "      <th>flavor</th>\n",
       "    </tr>\n",
       "  </thead>\n",
       "  <tbody>\n",
       "    <tr>\n",
       "      <th>0</th>\n",
       "      <td>0</td>\n",
       "      <td>None</td>\n",
       "      <td>Ethiopia</td>\n",
       "      <td>8.83</td>\n",
       "    </tr>\n",
       "    <tr>\n",
       "      <th>1</th>\n",
       "      <td>1</td>\n",
       "      <td>Other</td>\n",
       "      <td>Ethiopia</td>\n",
       "      <td>8.67</td>\n",
       "    </tr>\n",
       "    <tr>\n",
       "      <th>2</th>\n",
       "      <td>2</td>\n",
       "      <td>Bourbon</td>\n",
       "      <td>Guatemala</td>\n",
       "      <td>8.50</td>\n",
       "    </tr>\n",
       "    <tr>\n",
       "      <th>3</th>\n",
       "      <td>3</td>\n",
       "      <td>None</td>\n",
       "      <td>Ethiopia</td>\n",
       "      <td>8.58</td>\n",
       "    </tr>\n",
       "    <tr>\n",
       "      <th>4</th>\n",
       "      <td>4</td>\n",
       "      <td>Other</td>\n",
       "      <td>Ethiopia</td>\n",
       "      <td>8.50</td>\n",
       "    </tr>\n",
       "  </tbody>\n",
       "</table>\n",
       "</div>"
      ],
      "text/plain": [
       "   index  variety country_of_origin  flavor\n",
       "0      0     None          Ethiopia    8.83\n",
       "1      1    Other          Ethiopia    8.67\n",
       "2      2  Bourbon         Guatemala    8.50\n",
       "3      3     None          Ethiopia    8.58\n",
       "4      4    Other          Ethiopia    8.50"
      ]
     },
     "execution_count": 104,
     "metadata": {},
     "output_type": "execute_result"
    }
   ],
   "source": [
    "coffee_focus = coffee_ratings[[\"variety\", \"country_of_origin\", \"flavor\"]]\n",
    "coffee_focus = coffee_focus.reset_index()\n",
    "\n",
    "coffee_focus.head()"
   ]
  },
  {
   "cell_type": "code",
   "execution_count": 106,
   "metadata": {},
   "outputs": [
    {
     "data": {
      "text/plain": [
       "index\n",
       "477     6\n",
       "562     5\n",
       "659     5\n",
       "1019    5\n",
       "454     4\n",
       "       ..\n",
       "551     1\n",
       "705     1\n",
       "1049    1\n",
       "1328    1\n",
       "767     1\n",
       "Name: count, Length: 828, dtype: int64"
      ]
     },
     "execution_count": 106,
     "metadata": {},
     "output_type": "execute_result"
    }
   ],
   "source": [
    "coffee_resamp = coffee_focus.sample(frac=1, replace=True)\n",
    "coffee_resamp[\"index\"].value_counts()"
   ]
  },
  {
   "cell_type": "markdown",
   "metadata": {},
   "source": [
    "Some of the coffees were sampled four or five times while others 0 times"
   ]
  },
  {
   "cell_type": "code",
   "execution_count": 109,
   "metadata": {},
   "outputs": [
    {
     "name": "stdout",
     "output_type": "stream",
     "text": [
      "828\n"
     ]
    }
   ],
   "source": [
    "num_unique_coffees = len(coffee_resamp.drop_duplicates(subset=\"index\"))\n",
    "print(num_unique_coffees)"
   ]
  },
  {
   "cell_type": "code",
   "execution_count": 110,
   "metadata": {},
   "outputs": [
    {
     "data": {
      "text/plain": [
       "510"
      ]
     },
     "execution_count": 110,
     "metadata": {},
     "output_type": "execute_result"
    }
   ],
   "source": [
    "len(coffee_ratings) - num_unique_coffees"
   ]
  },
  {
   "cell_type": "markdown",
   "metadata": {},
   "source": [
    "510 were not included in `coffee_resamp`"
   ]
  },
  {
   "cell_type": "markdown",
   "metadata": {},
   "source": [
    "- ***Bootstrapping is the opposite of sampling from a population***\n",
    "\n",
    "- ***Sampling:*** going from a population to a smaller sample\n",
    "\n",
    "- ***Bootstrapping:*** building up a theoretical population from the sample"
   ]
  },
  {
   "cell_type": "markdown",
   "metadata": {},
   "source": [
    "**Bootstapping process:**\n",
    "1) Make ea resample of the same size as the original sample\n",
    "2) Calculate the statistic of interest for this bootstrap sample\n",
    "3) Repeat steps 1 and 2 many times\n",
    "\n",
    "The resulting statistics are ***bootstrap statistics*** and the form a ***bootstrap distribution***"
   ]
  },
  {
   "cell_type": "code",
   "execution_count": 111,
   "metadata": {},
   "outputs": [],
   "source": [
    "mean_flavors_1000 = []\n",
    "for i in range(1000):\n",
    "    mean_flavors_1000.append(\n",
    "        np.mean(coffee_resamp.sample(frac=1, replace= True)[\"flavor\"])\n",
    "    )"
   ]
  },
  {
   "cell_type": "code",
   "execution_count": 113,
   "metadata": {},
   "outputs": [
    {
     "data": {
      "image/png": "[encoded data removed]",
      "text/plain": [
       "<Figure size 640x480 with 1 Axes>"
      ]
     },
     "metadata": {},
     "output_type": "display_data"
    }
   ],
   "source": [
    "plt.hist(mean_flavors_1000)\n",
    "plt.show()"
   ]
  },
  {
   "cell_type": "markdown",
   "metadata": {},
   "source": [
    "### Comparing sampling and bootstrap distributions"
   ]
  },
  {
   "cell_type": "code",
   "execution_count": 114,
   "metadata": {},
   "outputs": [],
   "source": [
    "coffee_sample = coffee_ratings[[\"variety\", \"country_of_origin\", \"flavor\"]]\\\n",
    "    .reset_index().sample(n=500)"
   ]
  },
  {
   "cell_type": "code",
   "execution_count": 115,
   "metadata": {},
   "outputs": [],
   "source": [
    "mean_flavors_5000 = []\n",
    "for i in range(5000):\n",
    "    mean_flavors_5000.append(\n",
    "        np.mean(coffee_sample.sample(frac=1, replace=True)[\"flavor\"])\n",
    "    )\n",
    "\n",
    "bootstrap_distn = mean_flavors_5000"
   ]
  },
  {
   "cell_type": "code",
   "execution_count": 116,
   "metadata": {},
   "outputs": [
    {
     "data": {
      "image/png": "[encoded data removed]",
      "text/plain": [
       "<Figure size 640x480 with 1 Axes>"
      ]
     },
     "metadata": {},
     "output_type": "display_data"
    }
   ],
   "source": [
    "plt.hist(bootstrap_distn, bins=15)\n",
    "plt.show()"
   ]
  },
  {
   "cell_type": "code",
   "execution_count": 117,
   "metadata": {},
   "outputs": [
    {
     "name": "stdout",
     "output_type": "stream",
     "text": [
      "Sample mean: 7.5178400000000005\n",
      "Estimated population mean: 7.518031520000001\n",
      "The population mean: 7.526046337817639\n"
     ]
    }
   ],
   "source": [
    "print(f\"Sample mean: {coffee_sample[\"flavor\"].mean()}\")\n",
    "print(f\"Estimated population mean: {np.mean(bootstrap_distn)}\")\n",
    "print(f\"The population mean: {coffee_ratings[\"flavor\"].mean()}\")"
   ]
  },
  {
   "cell_type": "markdown",
   "metadata": {},
   "source": [
    "Bootstrap distribution mean:\n",
    "- usually close to the sample mean\n",
    "- May not be a good estimate of the population mean (***Bootstrapping cannot correct biases from sampling***)"
   ]
  },
  {
   "cell_type": "markdown",
   "metadata": {},
   "source": [
    "Let's now look at the std"
   ]
  },
  {
   "cell_type": "code",
   "execution_count": 119,
   "metadata": {},
   "outputs": [
    {
     "name": "stdout",
     "output_type": "stream",
     "text": [
      "Sample mean: 0.3304423075776989\n",
      "Estimated population mean: 0.01479649086364654\n"
     ]
    }
   ],
   "source": [
    "print(f\"Sample mean: {coffee_sample[\"flavor\"].std()}\")\n",
    "print(f\"Estimated population mean: {np.std(bootstrap_distn, ddof=1)}\")"
   ]
  },
  {
   "cell_type": "code",
   "execution_count": 120,
   "metadata": {},
   "outputs": [
    {
     "data": {
      "text/plain": [
       "0.3308595939956824"
      ]
     },
     "execution_count": 120,
     "metadata": {},
     "output_type": "execute_result"
    }
   ],
   "source": [
    "standard_error = np.std(bootstrap_distn, ddof=1)\n",
    "standard_error * np.sqrt(500)"
   ]
  },
  {
   "cell_type": "markdown",
   "metadata": {},
   "source": [
    "***Interpreting the standard errors***\n",
    "- estimated standard error (loop) is the standard deviation of the bootstrap distribution for a sample statistic\n",
    "- `Population std dev = Std.Error * np.sqrt(Sample size)`"
   ]
  },
  {
   "cell_type": "markdown",
   "metadata": {},
   "source": [
    "Even though bootstrapping was poor for estimating population mean, it is generally great for estimating population std"
   ]
  },
  {
   "cell_type": "markdown",
   "metadata": {},
   "source": [
    "***Remeber when using bootstrap we assume that we have no data on the population, therefore we have to work with a sample and resample it***"
   ]
  },
  {
   "cell_type": "markdown",
   "metadata": {},
   "source": [
    "**The sampling distribution mean can be used to estimate the population mean, but that is not the case with the bootstrap distribution.**"
   ]
  },
  {
   "cell_type": "markdown",
   "metadata": {},
   "source": [
    "### Confidence intervals"
   ]
  },
  {
   "cell_type": "code",
   "execution_count": 124,
   "metadata": {},
   "outputs": [
    {
     "name": "stdout",
     "output_type": "stream",
     "text": [
      "7.4894995\n"
     ]
    },
    {
     "data": {
      "text/plain": [
       "7.546800499999999"
      ]
     },
     "execution_count": 124,
     "metadata": {},
     "output_type": "execute_result"
    }
   ],
   "source": [
    "print(np.quantile(bootstrap_distn, 0.025)) #lower bound\n",
    "np.quantile(bootstrap_distn, 0.975) #upper bound"
   ]
  },
  {
   "cell_type": "code",
   "execution_count": 122,
   "metadata": {},
   "outputs": [],
   "source": [
    "from scipy.stats import norm\n",
    "norm.ppf(quantile, loc=0, scale=1) #params are set to the normal stardars distribution"
   ]
  },
  {
   "cell_type": "code",
   "execution_count": 125,
   "metadata": {},
   "outputs": [
    {
     "name": "stdout",
     "output_type": "stream",
     "text": [
      "(7.489030930809678, 7.547032109190324)\n"
     ]
    }
   ],
   "source": [
    "point_estimate = np.mean(bootstrap_distn)\n",
    "\n",
    "std_error = np.std(bootstrap_distn, ddof=1)\n",
    "\n",
    "lower = norm.ppf(0.025, loc=point_estimate, scale=std_error)\n",
    "upper = norm.ppf(0.975, loc=point_estimate, scale=std_error)\n",
    "print((lower, upper))"
   ]
  },
  {
   "cell_type": "markdown",
   "metadata": {},
   "source": [
    "Task 1"
   ]
  },
  {
   "cell_type": "code",
   "execution_count": null,
   "metadata": {},
   "outputs": [],
   "source": [
    "# Find the mean and std dev of the bootstrap distribution\n",
    "point_estimate = np.mean(bootstrap_distribution)\n",
    "standard_error = np.std(bootstrap_distribution, ddof=1)\n",
    "\n",
    "# Find the lower limit of the confidence interval\n",
    "lower_se = norm.ppf(0.025, loc=point_estimate, scale=standard_error)\n",
    "\n",
    "# Find the upper limit of the confidence interval\n",
    "upper_se = norm.ppf(0.975, loc=point_estimate, scale=standard_error)\n",
    "\n",
    "# Print standard error method confidence interval\n",
    "print((lower_se, upper_se))"
   ]
  }
 ],
 "metadata": {
  "kernelspec": {
   "display_name": "Python 3",
   "language": "python",
   "name": "python3"
  },
  "language_info": {
   "codemirror_mode": {
    "name": "ipython",
    "version": 3
   },
   "file_extension": ".py",
   "mimetype": "text/x-python",
   "name": "python",
   "nbconvert_exporter": "python",
   "pygments_lexer": "ipython3",
   "version": "3.12.3"
  }
 },
 "nbformat": 4,
 "nbformat_minor": 2
}
